{
 "cells": [
  {
   "cell_type": "markdown",
   "id": "e7b1709b",
   "metadata": {},
   "source": [
    "# Modeling\n",
    "- This notebook will focus on building models that predict fradulent transactions\n",
    "- We will deal with class imbalance by upsampling the minority classes with SMOTE, and downsampling the majority class.\n",
    "- We will look at the performance of 8 ML approaches. From these, we will select a ML approach and perform hyperparameter tuning.\n",
    "- Finally, we will assess the performance of the optimized model by 1) visualizing the confusion matrix, 2) plotting the precision-recall curve and exmaining AUPRC scores, 3) examining the f1-macro score.\n",
    "- NOTE: As a rule of thumb, you should use the precision recall (PR) curve whenever the positive class is rare (say I want to predict whether a number is 5 (positive case) or not 5 (negative case), and only 10% of the sample are actually 5)\n",
    "\n",
    "- I  also use f1-macro as the evaluation metric:\n",
    "    - A macro-average will compute the metric independently for each class and then take the average (hence treating all classes equally), whereas a micro-average will aggregate the contributions of all classes to compute the average metric.\n",
    "    - In a multi-class/binary classification setup, macro-average is preferable if you suspect there might be class imbalance (i.e you may have many more examples of one class than of other classes) AND you care as much, if not more about the minority class than the majority class. \n",
    "    - Macro-average will treat both classes as \"equally important\", despite the majority of the test sample belonging to the (less interesting) majority class. \n",
    "    - In contrast, if I do micro-averaging, or weighted averging, I am accounting for the sample size of the majority and minority classes: i.e., if the model performs poorly in predicting test samples in the minority class, it might not matter as much to the `overall performance` of the model. I care more about how well the model predicts the majority class."
   ]
  },
  {
   "cell_type": "markdown",
   "id": "f9a2af65",
   "metadata": {},
   "source": [
    "## General Workflow\n",
    "- Understand the problem\n",
    "- Exploratory Data Analysis\n",
    "- Clean and reformat data\n",
    "- Feature engineering to create a dataset for machine learning\n",
    "- Compare several machine learning models and select one\n",
    "- Optimize the selected model\n",
    "- Investigate model predictions and draw conclusions"
   ]
  },
  {
   "cell_type": "code",
   "execution_count": 1,
   "id": "1bae4fc0",
   "metadata": {},
   "outputs": [],
   "source": [
    "'''data'''\n",
    "import pandas as pd\n",
    "import numpy as np\n",
    "\n",
    "'''common'''\n",
    "from pathlib import Path\n",
    "import pickle\n",
    "import os\n",
    "import itertools\n",
    "\n",
    "'''Typing'''\n",
    "from typing import Dict, Union\n",
    "\n",
    "'''sklearn'''\n",
    "from sklearn.model_selection import (\n",
    "    StratifiedKFold,\n",
    "    cross_val_score, cross_val_predict, \n",
    "    train_test_split,\n",
    "    cross_validate,\n",
    "    RandomizedSearchCV,GridSearchCV)\n",
    "from sklearn.preprocessing import StandardScaler\n",
    "\n",
    "'''imblearn'''\n",
    "from imblearn.pipeline import Pipeline as imb_pipeline\n",
    "from imblearn.over_sampling import SMOTE\n",
    "from imblearn.under_sampling import RandomUnderSampler\n",
    "\n",
    "'''feature engine'''\n",
    "from feature_engine.selection import DropConstantFeatures\n",
    "from feature_engine.outliers import OutlierTrimmer\n",
    "from feature_engine.wrappers import SklearnTransformerWrapper\n",
    "from feature_engine.selection import DropFeatures\n",
    "\n",
    "'''models'''\n",
    "from sklearn.dummy import DummyClassifier\n",
    "from sklearn.linear_model import SGDClassifier, LogisticRegression\n",
    "from sklearn.ensemble import RandomForestClassifier\n",
    "from sklearn.svm import LinearSVC\n",
    "from sklearn.naive_bayes import GaussianNB\n",
    "from sklearn.neighbors import KNeighborsClassifier\n",
    "from lightgbm import LGBMClassifier\n",
    "\n",
    "\n",
    "'''metrics'''\n",
    "from sklearn.metrics import (\n",
    "    confusion_matrix,\n",
    "    precision_score, recall_score, f1_score, \n",
    "    precision_recall_curve, average_precision_score,\n",
    "    roc_curve, roc_auc_score\n",
    ")\n",
    "\n",
    "'''visualization'''\n",
    "import seaborn as sns\n",
    "import matplotlib.pyplot as plt\n",
    "\n",
    "'''warnings'''\n",
    "import warnings \n",
    "from sklearn.exceptions import ConvergenceWarning\n",
    "\n",
    "# Filter out warnings from models\n",
    "warnings.filterwarnings(\"ignore\", category = ConvergenceWarning)\n",
    "warnings.filterwarnings('ignore', category = DeprecationWarning)\n",
    "warnings.filterwarnings('ignore', category = UserWarning)"
   ]
  },
  {
   "cell_type": "code",
   "execution_count": 2,
   "id": "367810f4",
   "metadata": {},
   "outputs": [],
   "source": [
    "# Set working directory \n",
    "try: INIT_RUN\n",
    "except NameError:\n",
    "    os.chdir(os.path.dirname(os.getcwd()))\n",
    "    INIT_RUN=True"
   ]
  },
  {
   "cell_type": "code",
   "execution_count": 3,
   "id": "a86efab6",
   "metadata": {},
   "outputs": [],
   "source": [
    "# Customized modules\n",
    "import src.data_manager as dm\n",
    "import src.processing as pp"
   ]
  },
  {
   "cell_type": "code",
   "execution_count": 4,
   "id": "a53f2af0",
   "metadata": {},
   "outputs": [],
   "source": [
    "%reload_ext autoreload\n",
    "%autoreload 2"
   ]
  },
  {
   "cell_type": "markdown",
   "id": "68633e40",
   "metadata": {},
   "source": [
    "## Config"
   ]
  },
  {
   "cell_type": "code",
   "execution_count": 5,
   "id": "4f02d092",
   "metadata": {},
   "outputs": [],
   "source": [
    "# Scoring method for models\n",
    "SCORING = \"f1_macro\" #\"average_precision\" \n",
    "# Random seed\n",
    "RANDOM_STATE = 10\n",
    "# Test size\n",
    "TEST_SIZE = 0.2\n",
    "# variables to be standardize\n",
    "STD_VARS = [\"Amount\"]\n",
    "# Selected features from FeatureWiz\n",
    "SELECTED_FEATURES=['V14', 'V8', 'V13', 'V7', 'Amount', 'V19', 'V23', 'V6', 'V26', 'V25', 'V28']"
   ]
  },
  {
   "cell_type": "markdown",
   "id": "fb8c663f",
   "metadata": {},
   "source": [
    "## Custom Estimator"
   ]
  },
  {
   "cell_type": "code",
   "execution_count": 6,
   "id": "129c9d9b",
   "metadata": {},
   "outputs": [],
   "source": [
    "from sklearn.base import BaseEstimator, TransformerMixin\n",
    "\n",
    "# This custom step saves the column names of its input dataframe as a binary .pkl file\n",
    "class save_col_names(BaseEstimator, TransformerMixin):\n",
    "    \"\"\"\n",
    "    Constructor\n",
    "\n",
    "    Args:\n",
    "        step_name: the name of the step prior to \"save_col_names\". I want to save the column names of that step\n",
    "\n",
    "    Returns:\n",
    "        void\n",
    "    \"\"\"\n",
    "\n",
    "    def __init__(self, step_name:str):\n",
    "        self.step_name = step_name \n",
    "\n",
    "\n",
    "    def fit(self, X,\n",
    "            y=None):  # need to have y as argument to make class compatible with sklearn pipeline\n",
    "        \"\"\" Fit\n",
    "\n",
    "        Args:\n",
    "            X (DataFrame): a input dataframe of features to train the transformer\n",
    "            y (DataFrame): a input Series of response variable to train the transformer (optional)\n",
    "\n",
    "        Returns:\n",
    "            self\n",
    "        \"\"\"\n",
    "\n",
    "        return self\n",
    "\n",
    "    def transform(self, X):\n",
    "        \"\"\" Transform\n",
    "\n",
    "        Args:\n",
    "            X (DataFrame): a input dataframe of features to be transformed\n",
    "\n",
    "        \"\"\"\n",
    "\n",
    "        # Make a copy of the input dataframe\n",
    "        # so we won't overwrite the original Dataframe that was passed as argument\n",
    "        X = X.copy()\n",
    "        \n",
    "        # Get feature names\n",
    "        feature_names = X.columns.tolist\n",
    "        \n",
    "        # Save as pickle\n",
    "        with open(Path('outputs',f'{self.step_name}_feature_names.pkl'), 'wb') as f:\n",
    "            pickle.dump(feature_names, f)\n",
    "\n",
    "        return X"
   ]
  },
  {
   "cell_type": "markdown",
   "id": "ecdf1c13",
   "metadata": {},
   "source": [
    "## Import "
   ]
  },
  {
   "cell_type": "code",
   "execution_count": 7,
   "id": "84bcc8f0",
   "metadata": {},
   "outputs": [],
   "source": [
    "raw = dm.load_data(Path(\"data\", \"raw\"), \"creditcard.csv\")"
   ]
  },
  {
   "cell_type": "code",
   "execution_count": 8,
   "id": "6e6e1c07",
   "metadata": {},
   "outputs": [
    {
     "data": {
      "text/plain": [
       "(284807, 31)"
      ]
     },
     "execution_count": 8,
     "metadata": {},
     "output_type": "execute_result"
    }
   ],
   "source": [
    "raw.shape"
   ]
  },
  {
   "cell_type": "markdown",
   "id": "47ea8f0f",
   "metadata": {},
   "source": [
    "Include only features selected by FeatureWiz"
   ]
  },
  {
   "cell_type": "code",
   "execution_count": 9,
   "id": "301156cb",
   "metadata": {
    "scrolled": true
   },
   "outputs": [],
   "source": [
    "# Get raw dataframe with selected features from FeatureWiz\n",
    "df = raw.loc[:,SELECTED_FEATURES +[\"Class\"]]"
   ]
  },
  {
   "cell_type": "code",
   "execution_count": 10,
   "id": "bb69773b",
   "metadata": {},
   "outputs": [
    {
     "data": {
      "text/plain": [
       "(284807, 12)"
      ]
     },
     "execution_count": 10,
     "metadata": {},
     "output_type": "execute_result"
    }
   ],
   "source": [
    "df.shape"
   ]
  },
  {
   "cell_type": "markdown",
   "id": "f4f69006",
   "metadata": {},
   "source": [
    "## Train test split\n",
    "- Create test (holdout set) to evaluate the final, optimzed model\n",
    "- The train set would be further divided into tr and val sets for training and validating models\n",
    "- Stratify by class so both train and test sets retains the class distribution"
   ]
  },
  {
   "cell_type": "code",
   "execution_count": 11,
   "id": "27dad032",
   "metadata": {},
   "outputs": [],
   "source": [
    "X_train, X_test, y_train, y_test = train_test_split(\n",
    "    df.drop(\"Class\", axis=\"columns\"),\n",
    "    df.Class,\n",
    "    test_size = TEST_SIZE,\n",
    "    random_state= RANDOM_STATE,\n",
    "    stratify = df[\"Class\"]\n",
    ")"
   ]
  },
  {
   "cell_type": "code",
   "execution_count": 12,
   "id": "29b45716",
   "metadata": {},
   "outputs": [],
   "source": [
    "# Save the test set\n",
    "X_test.to_csv(Path(\"data\",\"test\",\"X_test.csv\"))\n",
    "y_test.to_csv(Path(\"data\",\"test\",\"y_test.csv\"))"
   ]
  },
  {
   "cell_type": "code",
   "execution_count": 13,
   "id": "6ca0dc89",
   "metadata": {},
   "outputs": [
    {
     "data": {
      "text/plain": [
       "((227845, 11), (227845,), (56962, 11), (56962,))"
      ]
     },
     "execution_count": 13,
     "metadata": {},
     "output_type": "execute_result"
    }
   ],
   "source": [
    "X_train.shape, y_train.shape, X_test.shape, y_test.shape"
   ]
  },
  {
   "cell_type": "markdown",
   "id": "5e5dea32",
   "metadata": {},
   "source": [
    "## Data pipeline\n",
    "- Drop features with near zero variance\n",
    "- Standardize `Amount` and `Time`\n",
    "- Upsample the minority class using SMOTE, and downsample the majority class using RandomUnderSampler\n",
    "- Modeling"
   ]
  },
  {
   "cell_type": "code",
   "execution_count": 14,
   "id": "ba5dddf5",
   "metadata": {},
   "outputs": [],
   "source": [
    "# Create pipeline\n",
    "data_pipeline = imb_pipeline([\n",
    " \n",
    "     # === drop qusai-constant variables === #\n",
    "     # drop variables with any level that appears in 0.75 of observations\n",
    "     ('drop_nzv', DropConstantFeatures(tol=0.75)),\n",
    "    \n",
    "     # === save feature names (of the df from the drop_nzv step) ===\n",
    "     ('save_feature_names', save_col_names(step_name='feature_selection')),\n",
    "        \n",
    "    # === standardization === #\n",
    "    ('feature_scaling', SklearnTransformerWrapper(transformer = StandardScaler(),\n",
    "                                    variables = STD_VARS)),\n",
    "    # === oversampling === # \n",
    "    # upsample the minority classes to have 0.1 of the majority class\n",
    "    ('oversampling', SMOTE(sampling_strategy=0.1,\n",
    "                           random_state=RANDOM_STATE)),\n",
    "    # === undersampling ==== # \n",
    "    # undersample the majority class to have 2x of minority class \n",
    "    ('undersampling', RandomUnderSampler(sampling_strategy= 0.5,\n",
    "                                         random_state=RANDOM_STATE)),\n",
    "    \n",
    " ])"
   ]
  },
  {
   "cell_type": "code",
   "execution_count": 15,
   "id": "f1ed2ccc",
   "metadata": {},
   "outputs": [],
   "source": [
    "# Fit and transform X_train and y_train\n",
    "# Use fit_resample() since my last step in the pipeline are estimators from imblearn\n",
    "x_tr_processed, y_tr_processed = data_pipeline.fit_resample(X_train, y_train) "
   ]
  },
  {
   "cell_type": "markdown",
   "id": "de2b5564",
   "metadata": {},
   "source": [
    "## Save processed data"
   ]
  },
  {
   "cell_type": "code",
   "execution_count": 16,
   "id": "d42f7516",
   "metadata": {},
   "outputs": [],
   "source": [
    "x_tr_processed.to_pickle(Path(\"data\",\"processed\",\"x_tr_processed_final.pkl\"))\n",
    "y_tr_processed.to_pickle(Path(\"data\",\"processed\",\"y_tr_processed_final.pkl\"))"
   ]
  },
  {
   "cell_type": "code",
   "execution_count": null,
   "id": "a69ae075",
   "metadata": {},
   "outputs": [],
   "source": []
  },
  {
   "cell_type": "markdown",
   "id": "fc400485",
   "metadata": {},
   "source": [
    "## Modeling"
   ]
  },
  {
   "cell_type": "code",
   "execution_count": 17,
   "id": "97ca92a2",
   "metadata": {},
   "outputs": [],
   "source": [
    "# Define function to compute cv_scores for a user-specified model\n",
    "\n",
    "def evaluate_model(X,y,clf,cv,scoring):\n",
    "    \n",
    "    # Create pipeline\n",
    "    data_pipeline = imb_pipeline([\n",
    " \n",
    "     # === drop qusai-constant variables === #\n",
    "     # drop variables with any level that appears in 0.75 of observations\n",
    "     ('drop_nzv', DropConstantFeatures(tol=0.75)),\n",
    "    \n",
    "     # === save feature names (of the df from the drop_nzv step) ===\n",
    "     ('save_feature_names', save_col_names(step_name='feature_selection')),\n",
    "        \n",
    "    # === standardization === #\n",
    "    ('feature_scaling', SklearnTransformerWrapper(transformer = StandardScaler(),\n",
    "                                    variables = STD_VARS)),\n",
    "    # === oversampling === # \n",
    "    # upsample the minority classes to have 0.1 of the majority class\n",
    "    ('oversampling', SMOTE(sampling_strategy=0.1,\n",
    "                           random_state=RANDOM_STATE)),\n",
    "        \n",
    "    # === undersampling ==== # \n",
    "    # undersample the majority class to have 2x of minority class\n",
    "    ('undersampling', RandomUnderSampler(sampling_strategy= 0.5,\n",
    "                                         random_state=RANDOM_STATE)),\n",
    "    \n",
    "    # === model === #\n",
    "    ('model', clf)    \n",
    "    \n",
    " ])\n",
    "    \n",
    "    # Compute cv scores\n",
    "    cv_scores = cross_val_score(estimator = data_pipeline,\n",
    "                                X = X,\n",
    "                                y = y,\n",
    "                                scoring = scoring,\n",
    "                                cv = cv,\n",
    "                                n_jobs=1)\n",
    "    \n",
    "    return cv_scores"
   ]
  },
  {
   "cell_type": "code",
   "execution_count": 18,
   "id": "9c71e8fd",
   "metadata": {},
   "outputs": [
    {
     "data": {
      "text/plain": [
       "5"
      ]
     },
     "execution_count": 18,
     "metadata": {},
     "output_type": "execute_result"
    }
   ],
   "source": [
    "# Define the 5-foldCV iterator\n",
    "skf = StratifiedKFold(\n",
    "    n_splits = 5,\n",
    "    shuffle = True,\n",
    "    random_state = RANDOM_STATE\n",
    ")\n",
    "skf.get_n_splits()"
   ]
  },
  {
   "cell_type": "code",
   "execution_count": 19,
   "id": "ccddecf3",
   "metadata": {},
   "outputs": [],
   "source": [
    "# Define a dict of models\n",
    "models = {\"dummy\": DummyClassifier(random_state = RANDOM_STATE),\n",
    "          \"SGD\" : SGDClassifier(random_state = RANDOM_STATE),\n",
    "          \"Random Forest\": RandomForestClassifier(n_estimators= 100, random_state = RANDOM_STATE),\n",
    "          \"SVC\" : LinearSVC(random_state = RANDOM_STATE),\n",
    "          \"Naive Bayes\": GaussianNB(),\n",
    "          \"KNN\": KNeighborsClassifier(),\n",
    "          \"lightgbm\": LGBMClassifier(random_state = RANDOM_STATE),\n",
    "         }"
   ]
  },
  {
   "cell_type": "code",
   "execution_count": 20,
   "id": "ecd36b3e",
   "metadata": {},
   "outputs": [
    {
     "name": "stdout",
     "output_type": "stream",
     "text": [
      "dummy\n",
      "mean f1_macro: 0.5\n",
      "stdev f1_macro: 0.0\n",
      "\n",
      "SGD\n",
      "mean f1_macro: 0.59\n",
      "stdev f1_macro: 0.01\n",
      "\n",
      "Random Forest\n",
      "mean f1_macro: 0.84\n",
      "stdev f1_macro: 0.01\n",
      "\n",
      "SVC\n",
      "mean f1_macro: 0.59\n",
      "stdev f1_macro: 0.01\n",
      "\n",
      "Naive Bayes\n",
      "mean f1_macro: 0.54\n",
      "stdev f1_macro: 0.0\n",
      "\n",
      "KNN\n",
      "mean f1_macro: 0.59\n",
      "stdev f1_macro: 0.0\n",
      "\n",
      "lightgbm\n",
      "mean f1_macro: 0.73\n",
      "stdev f1_macro: 0.01\n",
      "\n"
     ]
    }
   ],
   "source": [
    "# Train each model in the models dict, and then populate a dataframe with scores\n",
    "\n",
    "res = {} # empty results dictionary that will contain cv_scores for each model\n",
    "\n",
    "for k,v in models.items():\n",
    "    cv_scores = evaluate_model(X = X_train,\n",
    "                   y = y_train,\n",
    "                   clf = v,\n",
    "                   cv = skf,\n",
    "                   scoring = SCORING\n",
    "                  )\n",
    "    # update results dictionary\n",
    "    res.update({k:cv_scores}) # .update(): append a HashMap \n",
    "    \n",
    "    # print mean and sd cv scores of each model\n",
    "    print(f\"{k}\")\n",
    "    print(f\"mean {SCORING}: {np.round(np.mean(cv_scores),2)}\")\n",
    "    print(f\"stdev {SCORING}: {np.round(np.std(cv_scores),2)}\")\n",
    "    print()"
   ]
  },
  {
   "cell_type": "code",
   "execution_count": 21,
   "id": "d6bd1b08",
   "metadata": {},
   "outputs": [
    {
     "data": {
      "text/plain": [
       "{'dummy': array([0.49957171, 0.49956622, 0.49956622, 0.49956622, 0.49956622]),\n",
       " 'SGD': array([0.58135479, 0.61264287, 0.57280911, 0.58727263, 0.59297317]),\n",
       " 'Random Forest': array([0.83779584, 0.83857006, 0.82449373, 0.84747967, 0.8422281 ]),\n",
       " 'SVC': array([0.59432126, 0.60517077, 0.59813235, 0.5825198 , 0.58978705]),\n",
       " 'Naive Bayes': array([0.53772495, 0.53920683, 0.54003855, 0.54092948, 0.53862337]),\n",
       " 'KNN': array([0.5923686 , 0.58718858, 0.58981505, 0.58566576, 0.59700965]),\n",
       " 'lightgbm': array([0.71148698, 0.72996034, 0.73155786, 0.73464178, 0.74930682])}"
      ]
     },
     "execution_count": 21,
     "metadata": {},
     "output_type": "execute_result"
    }
   ],
   "source": [
    "res"
   ]
  },
  {
   "cell_type": "markdown",
   "id": "c157978c",
   "metadata": {},
   "source": [
    "**Comment: according to the mean CV score (f1 macro), xgboost and Random Forest has the best performance. We will fine-tune our \"short list\" of promising models. Then I will select the best one and evaluating it with the hold-out (test) set.**"
   ]
  },
  {
   "cell_type": "code",
   "execution_count": 22,
   "id": "10719622",
   "metadata": {},
   "outputs": [
    {
     "data": {
      "text/html": [
       "<div>\n",
       "<style scoped>\n",
       "    .dataframe tbody tr th:only-of-type {\n",
       "        vertical-align: middle;\n",
       "    }\n",
       "\n",
       "    .dataframe tbody tr th {\n",
       "        vertical-align: top;\n",
       "    }\n",
       "\n",
       "    .dataframe thead th {\n",
       "        text-align: right;\n",
       "    }\n",
       "</style>\n",
       "<table border=\"1\" class=\"dataframe\">\n",
       "  <thead>\n",
       "    <tr style=\"text-align: right;\">\n",
       "      <th></th>\n",
       "      <th>dummy</th>\n",
       "      <th>SGD</th>\n",
       "      <th>Random Forest</th>\n",
       "      <th>SVC</th>\n",
       "      <th>Naive Bayes</th>\n",
       "      <th>KNN</th>\n",
       "      <th>lightgbm</th>\n",
       "    </tr>\n",
       "  </thead>\n",
       "  <tbody>\n",
       "    <tr>\n",
       "      <th>0</th>\n",
       "      <td>0.499572</td>\n",
       "      <td>0.581355</td>\n",
       "      <td>0.837796</td>\n",
       "      <td>0.594321</td>\n",
       "      <td>0.537725</td>\n",
       "      <td>0.592369</td>\n",
       "      <td>0.711487</td>\n",
       "    </tr>\n",
       "    <tr>\n",
       "      <th>1</th>\n",
       "      <td>0.499566</td>\n",
       "      <td>0.612643</td>\n",
       "      <td>0.838570</td>\n",
       "      <td>0.605171</td>\n",
       "      <td>0.539207</td>\n",
       "      <td>0.587189</td>\n",
       "      <td>0.729960</td>\n",
       "    </tr>\n",
       "    <tr>\n",
       "      <th>2</th>\n",
       "      <td>0.499566</td>\n",
       "      <td>0.572809</td>\n",
       "      <td>0.824494</td>\n",
       "      <td>0.598132</td>\n",
       "      <td>0.540039</td>\n",
       "      <td>0.589815</td>\n",
       "      <td>0.731558</td>\n",
       "    </tr>\n",
       "    <tr>\n",
       "      <th>3</th>\n",
       "      <td>0.499566</td>\n",
       "      <td>0.587273</td>\n",
       "      <td>0.847480</td>\n",
       "      <td>0.582520</td>\n",
       "      <td>0.540929</td>\n",
       "      <td>0.585666</td>\n",
       "      <td>0.734642</td>\n",
       "    </tr>\n",
       "    <tr>\n",
       "      <th>4</th>\n",
       "      <td>0.499566</td>\n",
       "      <td>0.592973</td>\n",
       "      <td>0.842228</td>\n",
       "      <td>0.589787</td>\n",
       "      <td>0.538623</td>\n",
       "      <td>0.597010</td>\n",
       "      <td>0.749307</td>\n",
       "    </tr>\n",
       "  </tbody>\n",
       "</table>\n",
       "</div>"
      ],
      "text/plain": [
       "      dummy       SGD  Random Forest       SVC  Naive Bayes       KNN  \\\n",
       "0  0.499572  0.581355       0.837796  0.594321     0.537725  0.592369   \n",
       "1  0.499566  0.612643       0.838570  0.605171     0.539207  0.587189   \n",
       "2  0.499566  0.572809       0.824494  0.598132     0.540039  0.589815   \n",
       "3  0.499566  0.587273       0.847480  0.582520     0.540929  0.585666   \n",
       "4  0.499566  0.592973       0.842228  0.589787     0.538623  0.597010   \n",
       "\n",
       "   lightgbm  \n",
       "0  0.711487  \n",
       "1  0.729960  \n",
       "2  0.731558  \n",
       "3  0.734642  \n",
       "4  0.749307  "
      ]
     },
     "execution_count": 22,
     "metadata": {},
     "output_type": "execute_result"
    }
   ],
   "source": [
    "# Create results dataframe\n",
    "df_res = pd.DataFrame.from_dict(res)\n",
    "df_res.head()"
   ]
  },
  {
   "cell_type": "markdown",
   "id": "8dbca545",
   "metadata": {},
   "source": [
    "### Visualize the CV scores from each model"
   ]
  },
  {
   "cell_type": "code",
   "execution_count": 23,
   "id": "5f41ef13",
   "metadata": {},
   "outputs": [
    {
     "data": {
      "text/plain": [
       "Text(0.5, 0, 'CV average f1_macro')"
      ]
     },
     "execution_count": 23,
     "metadata": {},
     "output_type": "execute_result"
    },
    {
     "data": {
      "image/png": "[encoded data removed]",
      "text/plain": [
       "<Figure size 1000x500 with 1 Axes>"
      ]
     },
     "metadata": {},
     "output_type": "display_data"
    }
   ],
   "source": [
    "# styles\n",
    "plt.style.use(\"seaborn\")\n",
    "plt.rcParams[\"font.size\"]=16\n",
    "\n",
    "# plotting df\n",
    "df_plot = df_res.unstack().to_frame()\n",
    "\n",
    "# Bar Plot\n",
    "fig = plt.figure(figsize=(10,5))\n",
    "sns.boxplot(\n",
    "    y = df_plot.index.get_level_values(0),\n",
    "    x = df_plot[0])\n",
    "\n",
    "plt.xlabel(f\"CV average {SCORING}\")"
   ]
  },
  {
   "cell_type": "markdown",
   "id": "a7f0ce2f",
   "metadata": {},
   "source": [
    "## Tuning the Random Forest model\n",
    "- Use GridSearchCV to hone in on a set of optimal hyperparameters\n",
    "- I will try sets of hyparameters that differ slightly from the default value (which yielded mean CV score of 0.84 f1-macro)"
   ]
  },
  {
   "cell_type": "code",
   "execution_count": 24,
   "id": "1164e58c",
   "metadata": {},
   "outputs": [],
   "source": [
    "# Create pipeline\n",
    "rf_pipeline = imb_pipeline([\n",
    "\n",
    " # === drop qusai-constant variables === #\n",
    " # drop variables with any level that appears in X of observations\n",
    " ('drop_nzv', DropConstantFeatures(tol=0.75)),\n",
    "\n",
    " # === save feature names (of the df from the drop_nzv step) ===\n",
    " ('save_feature_names', save_col_names(step_name='feature_selection')),\n",
    "    \n",
    "# === standardization === #\n",
    "('feature_scaling', SklearnTransformerWrapper(transformer = StandardScaler(),\n",
    "                                variables = STD_VARS)),\n",
    "# === oversampling === # \n",
    "# upsample the minority classes to have 0.1 of the majority class\n",
    "('oversampling', SMOTE(sampling_strategy=0.1,\n",
    "                       random_state=RANDOM_STATE)),\n",
    "    \n",
    "# === undersampling ==== # \n",
    "# undersample the majority class to have 2x of minority class\n",
    "('undersampling', RandomUnderSampler(sampling_strategy= 0.5,\n",
    "                                     random_state=RANDOM_STATE)),\n",
    "\n",
    "# === model === #\n",
    " ('clf',  RandomForestClassifier(random_state= RANDOM_STATE))\n",
    "])"
   ]
  },
  {
   "cell_type": "code",
   "execution_count": 25,
   "id": "4a4bde64",
   "metadata": {},
   "outputs": [],
   "source": [
    "# parameter grid\n",
    "param_grid = {\n",
    "         \n",
    "    # classifier parameters \n",
    "    \"clf__max_features\": [\"sqrt\",\"log2\"],\n",
    "    \"clf__max_depth\": [None, 10, 20],\n",
    "    \"clf__min_samples_split\": [2,5,10],\n",
    "    \"clf__max_samples\":[None, 0.05, 0.1]\n",
    "}"
   ]
  },
  {
   "cell_type": "code",
   "execution_count": 26,
   "id": "56cb4380",
   "metadata": {},
   "outputs": [],
   "source": [
    "rf_grid_search = GridSearchCV(estimator = rf_pipeline, \n",
    "                           param_grid = param_grid, \n",
    "                           cv = skf, \n",
    "                           scoring=SCORING,\n",
    "                           verbose =1, # show the process\n",
    "                           n_jobs = -1)  # n_jobs = -1 means use all processors"
   ]
  },
  {
   "cell_type": "code",
   "execution_count": 27,
   "id": "a8180e3c",
   "metadata": {},
   "outputs": [
    {
     "name": "stdout",
     "output_type": "stream",
     "text": [
      "Fitting 5 folds for each of 54 candidates, totalling 270 fits\n"
     ]
    },
    {
     "data": {
      "text/html": [
       "<style>#sk-container-id-1 {color: black;background-color: white;}#sk-container-id-1 pre{padding: 0;}#sk-container-id-1 div.sk-toggleable {background-color: white;}#sk-container-id-1 label.sk-toggleable__label {cursor: pointer;display: block;width: 100%;margin-bottom: 0;padding: 0.3em;box-sizing: border-box;text-align: center;}#sk-container-id-1 label.sk-toggleable__label-arrow:before {content: \"▸\";float: left;margin-right: 0.25em;color: #696969;}#sk-container-id-1 label.sk-toggleable__label-arrow:hover:before {color: black;}#sk-container-id-1 div.sk-estimator:hover label.sk-toggleable__label-arrow:before {color: black;}#sk-container-id-1 div.sk-toggleable__content {max-height: 0;max-width: 0;overflow: hidden;text-align: left;background-color: #f0f8ff;}#sk-container-id-1 div.sk-toggleable__content pre {margin: 0.2em;color: black;border-radius: 0.25em;background-color: #f0f8ff;}#sk-container-id-1 input.sk-toggleable__control:checked~div.sk-toggleable__content {max-height: 200px;max-width: 100%;overflow: auto;}#sk-container-id-1 input.sk-toggleable__control:checked~label.sk-toggleable__label-arrow:before {content: \"▾\";}#sk-container-id-1 div.sk-estimator input.sk-toggleable__control:checked~label.sk-toggleable__label {background-color: #d4ebff;}#sk-container-id-1 div.sk-label input.sk-toggleable__control:checked~label.sk-toggleable__label {background-color: #d4ebff;}#sk-container-id-1 input.sk-hidden--visually {border: 0;clip: rect(1px 1px 1px 1px);clip: rect(1px, 1px, 1px, 1px);height: 1px;margin: -1px;overflow: hidden;padding: 0;position: absolute;width: 1px;}#sk-container-id-1 div.sk-estimator {font-family: monospace;background-color: #f0f8ff;border: 1px dotted black;border-radius: 0.25em;box-sizing: border-box;margin-bottom: 0.5em;}#sk-container-id-1 div.sk-estimator:hover {background-color: #d4ebff;}#sk-container-id-1 div.sk-parallel-item::after {content: \"\";width: 100%;border-bottom: 1px solid gray;flex-grow: 1;}#sk-container-id-1 div.sk-label:hover label.sk-toggleable__label {background-color: #d4ebff;}#sk-container-id-1 div.sk-serial::before {content: \"\";position: absolute;border-left: 1px solid gray;box-sizing: border-box;top: 0;bottom: 0;left: 50%;z-index: 0;}#sk-container-id-1 div.sk-serial {display: flex;flex-direction: column;align-items: center;background-color: white;padding-right: 0.2em;padding-left: 0.2em;position: relative;}#sk-container-id-1 div.sk-item {position: relative;z-index: 1;}#sk-container-id-1 div.sk-parallel {display: flex;align-items: stretch;justify-content: center;background-color: white;position: relative;}#sk-container-id-1 div.sk-item::before, #sk-container-id-1 div.sk-parallel-item::before {content: \"\";position: absolute;border-left: 1px solid gray;box-sizing: border-box;top: 0;bottom: 0;left: 50%;z-index: -1;}#sk-container-id-1 div.sk-parallel-item {display: flex;flex-direction: column;z-index: 1;position: relative;background-color: white;}#sk-container-id-1 div.sk-parallel-item:first-child::after {align-self: flex-end;width: 50%;}#sk-container-id-1 div.sk-parallel-item:last-child::after {align-self: flex-start;width: 50%;}#sk-container-id-1 div.sk-parallel-item:only-child::after {width: 0;}#sk-container-id-1 div.sk-dashed-wrapped {border: 1px dashed gray;margin: 0 0.4em 0.5em 0.4em;box-sizing: border-box;padding-bottom: 0.4em;background-color: white;}#sk-container-id-1 div.sk-label label {font-family: monospace;font-weight: bold;display: inline-block;line-height: 1.2em;}#sk-container-id-1 div.sk-label-container {text-align: center;}#sk-container-id-1 div.sk-container {/* jupyter's `normalize.less` sets `[hidden] { display: none; }` but bootstrap.min.css set `[hidden] { display: none !important; }` so we also need the `!important` here to be able to override the default hidden behavior on the sphinx rendered scikit-learn.org. See: https://github.com/scikit-learn/scikit-learn/issues/21755 */display: inline-block !important;position: relative;}#sk-container-id-1 div.sk-text-repr-fallback {display: none;}</style><div id=\"sk-container-id-1\" class=\"sk-top-container\"><div class=\"sk-text-repr-fallback\"><pre>GridSearchCV(cv=StratifiedKFold(n_splits=5, random_state=10, shuffle=True),\n",
       "             estimator=Pipeline(steps=[(&#x27;drop_nzv&#x27;,\n",
       "                                        DropConstantFeatures(tol=0.75)),\n",
       "                                       (&#x27;save_feature_names&#x27;,\n",
       "                                        save_col_names(step_name=&#x27;feature_selection&#x27;)),\n",
       "                                       (&#x27;feature_scaling&#x27;,\n",
       "                                        SklearnTransformerWrapper(transformer=StandardScaler(),\n",
       "                                                                  variables=[&#x27;Amount&#x27;])),\n",
       "                                       (&#x27;oversampling&#x27;,\n",
       "                                        SMOTE(random_state=10,\n",
       "                                              sampling_strategy=0.1)),\n",
       "                                       (&#x27;undersampling&#x27;,\n",
       "                                        RandomUnderSampler(random_state=10,\n",
       "                                                           sampling_strategy=0.5)),\n",
       "                                       (&#x27;clf&#x27;,\n",
       "                                        RandomForestClassifier(random_state=10))]),\n",
       "             n_jobs=-1,\n",
       "             param_grid={&#x27;clf__max_depth&#x27;: [None, 10, 20],\n",
       "                         &#x27;clf__max_features&#x27;: [&#x27;sqrt&#x27;, &#x27;log2&#x27;],\n",
       "                         &#x27;clf__max_samples&#x27;: [None, 0.05, 0.1],\n",
       "                         &#x27;clf__min_samples_split&#x27;: [2, 5, 10]},\n",
       "             scoring=&#x27;f1_macro&#x27;, verbose=1)</pre><b>In a Jupyter environment, please rerun this cell to show the HTML representation or trust the notebook. <br />On GitHub, the HTML representation is unable to render, please try loading this page with nbviewer.org.</b></div><div class=\"sk-container\" hidden><div class=\"sk-item sk-dashed-wrapped\"><div class=\"sk-label-container\"><div class=\"sk-label sk-toggleable\"><input class=\"sk-toggleable__control sk-hidden--visually\" id=\"sk-estimator-id-1\" type=\"checkbox\" ><label for=\"sk-estimator-id-1\" class=\"sk-toggleable__label sk-toggleable__label-arrow\">GridSearchCV</label><div class=\"sk-toggleable__content\"><pre>GridSearchCV(cv=StratifiedKFold(n_splits=5, random_state=10, shuffle=True),\n",
       "             estimator=Pipeline(steps=[(&#x27;drop_nzv&#x27;,\n",
       "                                        DropConstantFeatures(tol=0.75)),\n",
       "                                       (&#x27;save_feature_names&#x27;,\n",
       "                                        save_col_names(step_name=&#x27;feature_selection&#x27;)),\n",
       "                                       (&#x27;feature_scaling&#x27;,\n",
       "                                        SklearnTransformerWrapper(transformer=StandardScaler(),\n",
       "                                                                  variables=[&#x27;Amount&#x27;])),\n",
       "                                       (&#x27;oversampling&#x27;,\n",
       "                                        SMOTE(random_state=10,\n",
       "                                              sampling_strategy=0.1)),\n",
       "                                       (&#x27;undersampling&#x27;,\n",
       "                                        RandomUnderSampler(random_state=10,\n",
       "                                                           sampling_strategy=0.5)),\n",
       "                                       (&#x27;clf&#x27;,\n",
       "                                        RandomForestClassifier(random_state=10))]),\n",
       "             n_jobs=-1,\n",
       "             param_grid={&#x27;clf__max_depth&#x27;: [None, 10, 20],\n",
       "                         &#x27;clf__max_features&#x27;: [&#x27;sqrt&#x27;, &#x27;log2&#x27;],\n",
       "                         &#x27;clf__max_samples&#x27;: [None, 0.05, 0.1],\n",
       "                         &#x27;clf__min_samples_split&#x27;: [2, 5, 10]},\n",
       "             scoring=&#x27;f1_macro&#x27;, verbose=1)</pre></div></div></div><div class=\"sk-parallel\"><div class=\"sk-parallel-item\"><div class=\"sk-item\"><div class=\"sk-label-container\"><div class=\"sk-label sk-toggleable\"><input class=\"sk-toggleable__control sk-hidden--visually\" id=\"sk-estimator-id-2\" type=\"checkbox\" ><label for=\"sk-estimator-id-2\" class=\"sk-toggleable__label sk-toggleable__label-arrow\">estimator: Pipeline</label><div class=\"sk-toggleable__content\"><pre>Pipeline(steps=[(&#x27;drop_nzv&#x27;, DropConstantFeatures(tol=0.75)),\n",
       "                (&#x27;save_feature_names&#x27;,\n",
       "                 save_col_names(step_name=&#x27;feature_selection&#x27;)),\n",
       "                (&#x27;feature_scaling&#x27;,\n",
       "                 SklearnTransformerWrapper(transformer=StandardScaler(),\n",
       "                                           variables=[&#x27;Amount&#x27;])),\n",
       "                (&#x27;oversampling&#x27;, SMOTE(random_state=10, sampling_strategy=0.1)),\n",
       "                (&#x27;undersampling&#x27;,\n",
       "                 RandomUnderSampler(random_state=10, sampling_strategy=0.5)),\n",
       "                (&#x27;clf&#x27;, RandomForestClassifier(random_state=10))])</pre></div></div></div><div class=\"sk-serial\"><div class=\"sk-item\"><div class=\"sk-serial\"><div class=\"sk-item\"><div class=\"sk-estimator sk-toggleable\"><input class=\"sk-toggleable__control sk-hidden--visually\" id=\"sk-estimator-id-3\" type=\"checkbox\" ><label for=\"sk-estimator-id-3\" class=\"sk-toggleable__label sk-toggleable__label-arrow\">DropConstantFeatures</label><div class=\"sk-toggleable__content\"><pre>DropConstantFeatures(tol=0.75)</pre></div></div></div><div class=\"sk-item\"><div class=\"sk-estimator sk-toggleable\"><input class=\"sk-toggleable__control sk-hidden--visually\" id=\"sk-estimator-id-4\" type=\"checkbox\" ><label for=\"sk-estimator-id-4\" class=\"sk-toggleable__label sk-toggleable__label-arrow\">save_col_names</label><div class=\"sk-toggleable__content\"><pre>save_col_names(step_name=&#x27;feature_selection&#x27;)</pre></div></div></div><div class=\"sk-item sk-dashed-wrapped\"><div class=\"sk-label-container\"><div class=\"sk-label sk-toggleable\"><input class=\"sk-toggleable__control sk-hidden--visually\" id=\"sk-estimator-id-5\" type=\"checkbox\" ><label for=\"sk-estimator-id-5\" class=\"sk-toggleable__label sk-toggleable__label-arrow\">feature_scaling: SklearnTransformerWrapper</label><div class=\"sk-toggleable__content\"><pre>SklearnTransformerWrapper(transformer=StandardScaler(), variables=[&#x27;Amount&#x27;])</pre></div></div></div><div class=\"sk-parallel\"><div class=\"sk-parallel-item\"><div class=\"sk-item\"><div class=\"sk-label-container\"><div class=\"sk-label sk-toggleable\"><input class=\"sk-toggleable__control sk-hidden--visually\" id=\"sk-estimator-id-6\" type=\"checkbox\" ><label for=\"sk-estimator-id-6\" class=\"sk-toggleable__label sk-toggleable__label-arrow\">transformer: StandardScaler</label><div class=\"sk-toggleable__content\"><pre>StandardScaler()</pre></div></div></div><div class=\"sk-serial\"><div class=\"sk-item\"><div class=\"sk-estimator sk-toggleable\"><input class=\"sk-toggleable__control sk-hidden--visually\" id=\"sk-estimator-id-7\" type=\"checkbox\" ><label for=\"sk-estimator-id-7\" class=\"sk-toggleable__label sk-toggleable__label-arrow\">StandardScaler</label><div class=\"sk-toggleable__content\"><pre>StandardScaler()</pre></div></div></div></div></div></div></div></div><div class=\"sk-item\"><div class=\"sk-estimator sk-toggleable\"><input class=\"sk-toggleable__control sk-hidden--visually\" id=\"sk-estimator-id-8\" type=\"checkbox\" ><label for=\"sk-estimator-id-8\" class=\"sk-toggleable__label sk-toggleable__label-arrow\">SMOTE</label><div class=\"sk-toggleable__content\"><pre>SMOTE(random_state=10, sampling_strategy=0.1)</pre></div></div></div><div class=\"sk-item\"><div class=\"sk-estimator sk-toggleable\"><input class=\"sk-toggleable__control sk-hidden--visually\" id=\"sk-estimator-id-9\" type=\"checkbox\" ><label for=\"sk-estimator-id-9\" class=\"sk-toggleable__label sk-toggleable__label-arrow\">RandomUnderSampler</label><div class=\"sk-toggleable__content\"><pre>RandomUnderSampler(random_state=10, sampling_strategy=0.5)</pre></div></div></div><div class=\"sk-item\"><div class=\"sk-estimator sk-toggleable\"><input class=\"sk-toggleable__control sk-hidden--visually\" id=\"sk-estimator-id-10\" type=\"checkbox\" ><label for=\"sk-estimator-id-10\" class=\"sk-toggleable__label sk-toggleable__label-arrow\">RandomForestClassifier</label><div class=\"sk-toggleable__content\"><pre>RandomForestClassifier(random_state=10)</pre></div></div></div></div></div></div></div></div></div></div></div></div>"
      ],
      "text/plain": [
       "GridSearchCV(cv=StratifiedKFold(n_splits=5, random_state=10, shuffle=True),\n",
       "             estimator=Pipeline(steps=[('drop_nzv',\n",
       "                                        DropConstantFeatures(tol=0.75)),\n",
       "                                       ('save_feature_names',\n",
       "                                        save_col_names(step_name='feature_selection')),\n",
       "                                       ('feature_scaling',\n",
       "                                        SklearnTransformerWrapper(transformer=StandardScaler(),\n",
       "                                                                  variables=['Amount'])),\n",
       "                                       ('oversampling',\n",
       "                                        SMOTE(random_state=10,\n",
       "                                              sampling_strategy=0.1)),\n",
       "                                       ('undersampling',\n",
       "                                        RandomUnderSampler(random_state=10,\n",
       "                                                           sampling_strategy=0.5)),\n",
       "                                       ('clf',\n",
       "                                        RandomForestClassifier(random_state=10))]),\n",
       "             n_jobs=-1,\n",
       "             param_grid={'clf__max_depth': [None, 10, 20],\n",
       "                         'clf__max_features': ['sqrt', 'log2'],\n",
       "                         'clf__max_samples': [None, 0.05, 0.1],\n",
       "                         'clf__min_samples_split': [2, 5, 10]},\n",
       "             scoring='f1_macro', verbose=1)"
      ]
     },
     "execution_count": 27,
     "metadata": {},
     "output_type": "execute_result"
    }
   ],
   "source": [
    "# fit model\n",
    "rf_grid_search.fit(X_train,y_train)"
   ]
  },
  {
   "cell_type": "code",
   "execution_count": 28,
   "id": "9266e429",
   "metadata": {},
   "outputs": [
    {
     "data": {
      "text/plain": [
       "{'clf__max_depth': None,\n",
       " 'clf__max_features': 'sqrt',\n",
       " 'clf__max_samples': None,\n",
       " 'clf__min_samples_split': 2}"
      ]
     },
     "execution_count": 28,
     "metadata": {},
     "output_type": "execute_result"
    }
   ],
   "source": [
    "# Let's take a look at the optimal parameters\n",
    "rf_grid_search.best_params_"
   ]
  },
  {
   "cell_type": "code",
   "execution_count": 29,
   "id": "ae1655bc",
   "metadata": {},
   "outputs": [
    {
     "name": "stdout",
     "output_type": "stream",
     "text": [
      "The optimal model has f1_macro of 0.8381134804104736\n"
     ]
    }
   ],
   "source": [
    "# What is the score of the model with the optimal parameter?\n",
    "print(f\"The optimal model has {SCORING} of {rf_grid_search.best_score_}\")"
   ]
  },
  {
   "cell_type": "code",
   "execution_count": 30,
   "id": "29b362e3",
   "metadata": {},
   "outputs": [],
   "source": [
    "# Persist the optimal pipeline (NOTE: the estimator of the grid_search object is a pipeline)\n",
    "rf_grid_search_best_pipeline = rf_grid_search.best_estimator_\n",
    "\n",
    "# Save as pickle\n",
    "with open(Path('outputs','trained_models','rf_grid_search_best_pipeline.pkl'), 'wb') as f:\n",
    "    pickle.dump(rf_grid_search_best_pipeline, f)"
   ]
  },
  {
   "cell_type": "markdown",
   "id": "af5068e2",
   "metadata": {},
   "source": [
    "## Tuning lightgbm"
   ]
  },
  {
   "cell_type": "code",
   "execution_count": 31,
   "id": "cdfe7445",
   "metadata": {},
   "outputs": [],
   "source": [
    "# Create pipeline\n",
    "gbm_pipeline = imb_pipeline([\n",
    "\n",
    " # === drop qusai-constant variables === #\n",
    " # drop variables with any level that appears in X of observations\n",
    " ('drop_nzv', DropConstantFeatures(tol=0.75)),\n",
    "\n",
    " # === save feature names (of the df from the drop_nzv step) ===\n",
    " ('save_feature_names', save_col_names(step_name='feature_selection')),\n",
    "    \n",
    "# === standardization === #\n",
    "('feature_scaling', SklearnTransformerWrapper(transformer = StandardScaler(),\n",
    "                                variables = STD_VARS)),\n",
    "# === oversampling === # \n",
    "# upsample the minority classes to have 0.1 of the majority class\n",
    "('oversampling', SMOTE(sampling_strategy=0.1,\n",
    "                       random_state=RANDOM_STATE)),\n",
    "    \n",
    "# === undersampling ==== # \n",
    "# undersample the majority class to have 2x of minority class\n",
    "('undersampling', RandomUnderSampler(sampling_strategy= 0.5,\n",
    "                                     random_state=RANDOM_STATE)),\n",
    "\n",
    "# === model === #\n",
    " ('clf',  LGBMClassifier(random_state= RANDOM_STATE))\n",
    "])"
   ]
  },
  {
   "cell_type": "code",
   "execution_count": 32,
   "id": "617325e6",
   "metadata": {},
   "outputs": [],
   "source": [
    "# random grid\n",
    "random_grid = {    \n",
    "    # classifier parameters \n",
    "    \"clf__n_estimators\": [500,1000],\n",
    "    \"clf__learning_rate\": [0.1, 100, 1000],\n",
    "    \"clf__max_depth\":[-1,5,10],\n",
    "    \"clf__colsample_bytree\":[0.3,0.5,1],\n",
    "    \"clf__min_child_weight\":[1,3,5]\n",
    "}"
   ]
  },
  {
   "cell_type": "code",
   "execution_count": 33,
   "id": "7f7de810",
   "metadata": {},
   "outputs": [],
   "source": [
    "# Perform random search of the parameters, using a 5 fold CV to estimate the test metric for each setting.\n",
    "\n",
    "# init random grid search object\n",
    "rand_grid_search = RandomizedSearchCV(estimator = gbm_pipeline,\n",
    "                                param_distributions = random_grid,\n",
    "                                n_iter = 20,  # randomly select 10 different settings to try\n",
    "                                cv = skf,       # use 5-fold CV for each setting to estimate its test metric\n",
    "                                scoring=SCORING,\n",
    "                                verbose = 1,  # show the process\n",
    "                                n_jobs =-1,  # use all processors\n",
    "                                random_state = RANDOM_STATE)"
   ]
  },
  {
   "cell_type": "code",
   "execution_count": 34,
   "id": "dee1b852",
   "metadata": {},
   "outputs": [
    {
     "name": "stdout",
     "output_type": "stream",
     "text": [
      "Fitting 5 folds for each of 20 candidates, totalling 100 fits\n"
     ]
    },
    {
     "data": {
      "text/html": [
       "<style>#sk-container-id-2 {color: black;background-color: white;}#sk-container-id-2 pre{padding: 0;}#sk-container-id-2 div.sk-toggleable {background-color: white;}#sk-container-id-2 label.sk-toggleable__label {cursor: pointer;display: block;width: 100%;margin-bottom: 0;padding: 0.3em;box-sizing: border-box;text-align: center;}#sk-container-id-2 label.sk-toggleable__label-arrow:before {content: \"▸\";float: left;margin-right: 0.25em;color: #696969;}#sk-container-id-2 label.sk-toggleable__label-arrow:hover:before {color: black;}#sk-container-id-2 div.sk-estimator:hover label.sk-toggleable__label-arrow:before {color: black;}#sk-container-id-2 div.sk-toggleable__content {max-height: 0;max-width: 0;overflow: hidden;text-align: left;background-color: #f0f8ff;}#sk-container-id-2 div.sk-toggleable__content pre {margin: 0.2em;color: black;border-radius: 0.25em;background-color: #f0f8ff;}#sk-container-id-2 input.sk-toggleable__control:checked~div.sk-toggleable__content {max-height: 200px;max-width: 100%;overflow: auto;}#sk-container-id-2 input.sk-toggleable__control:checked~label.sk-toggleable__label-arrow:before {content: \"▾\";}#sk-container-id-2 div.sk-estimator input.sk-toggleable__control:checked~label.sk-toggleable__label {background-color: #d4ebff;}#sk-container-id-2 div.sk-label input.sk-toggleable__control:checked~label.sk-toggleable__label {background-color: #d4ebff;}#sk-container-id-2 input.sk-hidden--visually {border: 0;clip: rect(1px 1px 1px 1px);clip: rect(1px, 1px, 1px, 1px);height: 1px;margin: -1px;overflow: hidden;padding: 0;position: absolute;width: 1px;}#sk-container-id-2 div.sk-estimator {font-family: monospace;background-color: #f0f8ff;border: 1px dotted black;border-radius: 0.25em;box-sizing: border-box;margin-bottom: 0.5em;}#sk-container-id-2 div.sk-estimator:hover {background-color: #d4ebff;}#sk-container-id-2 div.sk-parallel-item::after {content: \"\";width: 100%;border-bottom: 1px solid gray;flex-grow: 1;}#sk-container-id-2 div.sk-label:hover label.sk-toggleable__label {background-color: #d4ebff;}#sk-container-id-2 div.sk-serial::before {content: \"\";position: absolute;border-left: 1px solid gray;box-sizing: border-box;top: 0;bottom: 0;left: 50%;z-index: 0;}#sk-container-id-2 div.sk-serial {display: flex;flex-direction: column;align-items: center;background-color: white;padding-right: 0.2em;padding-left: 0.2em;position: relative;}#sk-container-id-2 div.sk-item {position: relative;z-index: 1;}#sk-container-id-2 div.sk-parallel {display: flex;align-items: stretch;justify-content: center;background-color: white;position: relative;}#sk-container-id-2 div.sk-item::before, #sk-container-id-2 div.sk-parallel-item::before {content: \"\";position: absolute;border-left: 1px solid gray;box-sizing: border-box;top: 0;bottom: 0;left: 50%;z-index: -1;}#sk-container-id-2 div.sk-parallel-item {display: flex;flex-direction: column;z-index: 1;position: relative;background-color: white;}#sk-container-id-2 div.sk-parallel-item:first-child::after {align-self: flex-end;width: 50%;}#sk-container-id-2 div.sk-parallel-item:last-child::after {align-self: flex-start;width: 50%;}#sk-container-id-2 div.sk-parallel-item:only-child::after {width: 0;}#sk-container-id-2 div.sk-dashed-wrapped {border: 1px dashed gray;margin: 0 0.4em 0.5em 0.4em;box-sizing: border-box;padding-bottom: 0.4em;background-color: white;}#sk-container-id-2 div.sk-label label {font-family: monospace;font-weight: bold;display: inline-block;line-height: 1.2em;}#sk-container-id-2 div.sk-label-container {text-align: center;}#sk-container-id-2 div.sk-container {/* jupyter's `normalize.less` sets `[hidden] { display: none; }` but bootstrap.min.css set `[hidden] { display: none !important; }` so we also need the `!important` here to be able to override the default hidden behavior on the sphinx rendered scikit-learn.org. See: https://github.com/scikit-learn/scikit-learn/issues/21755 */display: inline-block !important;position: relative;}#sk-container-id-2 div.sk-text-repr-fallback {display: none;}</style><div id=\"sk-container-id-2\" class=\"sk-top-container\"><div class=\"sk-text-repr-fallback\"><pre>RandomizedSearchCV(cv=StratifiedKFold(n_splits=5, random_state=10, shuffle=True),\n",
       "                   estimator=Pipeline(steps=[(&#x27;drop_nzv&#x27;,\n",
       "                                              DropConstantFeatures(tol=0.75)),\n",
       "                                             (&#x27;save_feature_names&#x27;,\n",
       "                                              save_col_names(step_name=&#x27;feature_selection&#x27;)),\n",
       "                                             (&#x27;feature_scaling&#x27;,\n",
       "                                              SklearnTransformerWrapper(transformer=StandardScaler(),\n",
       "                                                                        variables=[&#x27;Amount&#x27;])),\n",
       "                                             (&#x27;oversampling&#x27;,\n",
       "                                              SMOTE(random_state=...\n",
       "                                              RandomUnderSampler(random_state=10,\n",
       "                                                                 sampling_strategy=0.5)),\n",
       "                                             (&#x27;clf&#x27;,\n",
       "                                              LGBMClassifier(random_state=10))]),\n",
       "                   n_iter=20, n_jobs=-1,\n",
       "                   param_distributions={&#x27;clf__colsample_bytree&#x27;: [0.3, 0.5, 1],\n",
       "                                        &#x27;clf__learning_rate&#x27;: [0.1, 100, 1000],\n",
       "                                        &#x27;clf__max_depth&#x27;: [-1, 5, 10],\n",
       "                                        &#x27;clf__min_child_weight&#x27;: [1, 3, 5],\n",
       "                                        &#x27;clf__n_estimators&#x27;: [500, 1000]},\n",
       "                   random_state=10, scoring=&#x27;f1_macro&#x27;, verbose=1)</pre><b>In a Jupyter environment, please rerun this cell to show the HTML representation or trust the notebook. <br />On GitHub, the HTML representation is unable to render, please try loading this page with nbviewer.org.</b></div><div class=\"sk-container\" hidden><div class=\"sk-item sk-dashed-wrapped\"><div class=\"sk-label-container\"><div class=\"sk-label sk-toggleable\"><input class=\"sk-toggleable__control sk-hidden--visually\" id=\"sk-estimator-id-11\" type=\"checkbox\" ><label for=\"sk-estimator-id-11\" class=\"sk-toggleable__label sk-toggleable__label-arrow\">RandomizedSearchCV</label><div class=\"sk-toggleable__content\"><pre>RandomizedSearchCV(cv=StratifiedKFold(n_splits=5, random_state=10, shuffle=True),\n",
       "                   estimator=Pipeline(steps=[(&#x27;drop_nzv&#x27;,\n",
       "                                              DropConstantFeatures(tol=0.75)),\n",
       "                                             (&#x27;save_feature_names&#x27;,\n",
       "                                              save_col_names(step_name=&#x27;feature_selection&#x27;)),\n",
       "                                             (&#x27;feature_scaling&#x27;,\n",
       "                                              SklearnTransformerWrapper(transformer=StandardScaler(),\n",
       "                                                                        variables=[&#x27;Amount&#x27;])),\n",
       "                                             (&#x27;oversampling&#x27;,\n",
       "                                              SMOTE(random_state=...\n",
       "                                              RandomUnderSampler(random_state=10,\n",
       "                                                                 sampling_strategy=0.5)),\n",
       "                                             (&#x27;clf&#x27;,\n",
       "                                              LGBMClassifier(random_state=10))]),\n",
       "                   n_iter=20, n_jobs=-1,\n",
       "                   param_distributions={&#x27;clf__colsample_bytree&#x27;: [0.3, 0.5, 1],\n",
       "                                        &#x27;clf__learning_rate&#x27;: [0.1, 100, 1000],\n",
       "                                        &#x27;clf__max_depth&#x27;: [-1, 5, 10],\n",
       "                                        &#x27;clf__min_child_weight&#x27;: [1, 3, 5],\n",
       "                                        &#x27;clf__n_estimators&#x27;: [500, 1000]},\n",
       "                   random_state=10, scoring=&#x27;f1_macro&#x27;, verbose=1)</pre></div></div></div><div class=\"sk-parallel\"><div class=\"sk-parallel-item\"><div class=\"sk-item\"><div class=\"sk-label-container\"><div class=\"sk-label sk-toggleable\"><input class=\"sk-toggleable__control sk-hidden--visually\" id=\"sk-estimator-id-12\" type=\"checkbox\" ><label for=\"sk-estimator-id-12\" class=\"sk-toggleable__label sk-toggleable__label-arrow\">estimator: Pipeline</label><div class=\"sk-toggleable__content\"><pre>Pipeline(steps=[(&#x27;drop_nzv&#x27;, DropConstantFeatures(tol=0.75)),\n",
       "                (&#x27;save_feature_names&#x27;,\n",
       "                 save_col_names(step_name=&#x27;feature_selection&#x27;)),\n",
       "                (&#x27;feature_scaling&#x27;,\n",
       "                 SklearnTransformerWrapper(transformer=StandardScaler(),\n",
       "                                           variables=[&#x27;Amount&#x27;])),\n",
       "                (&#x27;oversampling&#x27;, SMOTE(random_state=10, sampling_strategy=0.1)),\n",
       "                (&#x27;undersampling&#x27;,\n",
       "                 RandomUnderSampler(random_state=10, sampling_strategy=0.5)),\n",
       "                (&#x27;clf&#x27;, LGBMClassifier(random_state=10))])</pre></div></div></div><div class=\"sk-serial\"><div class=\"sk-item\"><div class=\"sk-serial\"><div class=\"sk-item\"><div class=\"sk-estimator sk-toggleable\"><input class=\"sk-toggleable__control sk-hidden--visually\" id=\"sk-estimator-id-13\" type=\"checkbox\" ><label for=\"sk-estimator-id-13\" class=\"sk-toggleable__label sk-toggleable__label-arrow\">DropConstantFeatures</label><div class=\"sk-toggleable__content\"><pre>DropConstantFeatures(tol=0.75)</pre></div></div></div><div class=\"sk-item\"><div class=\"sk-estimator sk-toggleable\"><input class=\"sk-toggleable__control sk-hidden--visually\" id=\"sk-estimator-id-14\" type=\"checkbox\" ><label for=\"sk-estimator-id-14\" class=\"sk-toggleable__label sk-toggleable__label-arrow\">save_col_names</label><div class=\"sk-toggleable__content\"><pre>save_col_names(step_name=&#x27;feature_selection&#x27;)</pre></div></div></div><div class=\"sk-item sk-dashed-wrapped\"><div class=\"sk-label-container\"><div class=\"sk-label sk-toggleable\"><input class=\"sk-toggleable__control sk-hidden--visually\" id=\"sk-estimator-id-15\" type=\"checkbox\" ><label for=\"sk-estimator-id-15\" class=\"sk-toggleable__label sk-toggleable__label-arrow\">feature_scaling: SklearnTransformerWrapper</label><div class=\"sk-toggleable__content\"><pre>SklearnTransformerWrapper(transformer=StandardScaler(), variables=[&#x27;Amount&#x27;])</pre></div></div></div><div class=\"sk-parallel\"><div class=\"sk-parallel-item\"><div class=\"sk-item\"><div class=\"sk-label-container\"><div class=\"sk-label sk-toggleable\"><input class=\"sk-toggleable__control sk-hidden--visually\" id=\"sk-estimator-id-16\" type=\"checkbox\" ><label for=\"sk-estimator-id-16\" class=\"sk-toggleable__label sk-toggleable__label-arrow\">transformer: StandardScaler</label><div class=\"sk-toggleable__content\"><pre>StandardScaler()</pre></div></div></div><div class=\"sk-serial\"><div class=\"sk-item\"><div class=\"sk-estimator sk-toggleable\"><input class=\"sk-toggleable__control sk-hidden--visually\" id=\"sk-estimator-id-17\" type=\"checkbox\" ><label for=\"sk-estimator-id-17\" class=\"sk-toggleable__label sk-toggleable__label-arrow\">StandardScaler</label><div class=\"sk-toggleable__content\"><pre>StandardScaler()</pre></div></div></div></div></div></div></div></div><div class=\"sk-item\"><div class=\"sk-estimator sk-toggleable\"><input class=\"sk-toggleable__control sk-hidden--visually\" id=\"sk-estimator-id-18\" type=\"checkbox\" ><label for=\"sk-estimator-id-18\" class=\"sk-toggleable__label sk-toggleable__label-arrow\">SMOTE</label><div class=\"sk-toggleable__content\"><pre>SMOTE(random_state=10, sampling_strategy=0.1)</pre></div></div></div><div class=\"sk-item\"><div class=\"sk-estimator sk-toggleable\"><input class=\"sk-toggleable__control sk-hidden--visually\" id=\"sk-estimator-id-19\" type=\"checkbox\" ><label for=\"sk-estimator-id-19\" class=\"sk-toggleable__label sk-toggleable__label-arrow\">RandomUnderSampler</label><div class=\"sk-toggleable__content\"><pre>RandomUnderSampler(random_state=10, sampling_strategy=0.5)</pre></div></div></div><div class=\"sk-item\"><div class=\"sk-estimator sk-toggleable\"><input class=\"sk-toggleable__control sk-hidden--visually\" id=\"sk-estimator-id-20\" type=\"checkbox\" ><label for=\"sk-estimator-id-20\" class=\"sk-toggleable__label sk-toggleable__label-arrow\">LGBMClassifier</label><div class=\"sk-toggleable__content\"><pre>LGBMClassifier(random_state=10)</pre></div></div></div></div></div></div></div></div></div></div></div></div>"
      ],
      "text/plain": [
       "RandomizedSearchCV(cv=StratifiedKFold(n_splits=5, random_state=10, shuffle=True),\n",
       "                   estimator=Pipeline(steps=[('drop_nzv',\n",
       "                                              DropConstantFeatures(tol=0.75)),\n",
       "                                             ('save_feature_names',\n",
       "                                              save_col_names(step_name='feature_selection')),\n",
       "                                             ('feature_scaling',\n",
       "                                              SklearnTransformerWrapper(transformer=StandardScaler(),\n",
       "                                                                        variables=['Amount'])),\n",
       "                                             ('oversampling',\n",
       "                                              SMOTE(random_state=...\n",
       "                                              RandomUnderSampler(random_state=10,\n",
       "                                                                 sampling_strategy=0.5)),\n",
       "                                             ('clf',\n",
       "                                              LGBMClassifier(random_state=10))]),\n",
       "                   n_iter=20, n_jobs=-1,\n",
       "                   param_distributions={'clf__colsample_bytree': [0.3, 0.5, 1],\n",
       "                                        'clf__learning_rate': [0.1, 100, 1000],\n",
       "                                        'clf__max_depth': [-1, 5, 10],\n",
       "                                        'clf__min_child_weight': [1, 3, 5],\n",
       "                                        'clf__n_estimators': [500, 1000]},\n",
       "                   random_state=10, scoring='f1_macro', verbose=1)"
      ]
     },
     "execution_count": 34,
     "metadata": {},
     "output_type": "execute_result"
    }
   ],
   "source": [
    "# fit model\n",
    "rand_grid_search.fit(X_train, y_train)"
   ]
  },
  {
   "cell_type": "code",
   "execution_count": 35,
   "id": "71fbd6a4",
   "metadata": {},
   "outputs": [
    {
     "name": "stdout",
     "output_type": "stream",
     "text": [
      "The mean CV f1_macro of the best estimator is: 0.7851745006478345\n"
     ]
    }
   ],
   "source": [
    "print(f\"The mean CV {SCORING} of the best estimator is: {rand_grid_search.best_score_}\")"
   ]
  },
  {
   "cell_type": "code",
   "execution_count": 36,
   "id": "74868e99",
   "metadata": {},
   "outputs": [
    {
     "data": {
      "text/plain": [
       "{'clf__n_estimators': 1000,\n",
       " 'clf__min_child_weight': 1,\n",
       " 'clf__max_depth': 10,\n",
       " 'clf__learning_rate': 0.1,\n",
       " 'clf__colsample_bytree': 0.5}"
      ]
     },
     "execution_count": 36,
     "metadata": {},
     "output_type": "execute_result"
    }
   ],
   "source": [
    "# Optimized parameters\n",
    "rand_grid_search.best_params_ "
   ]
  },
  {
   "cell_type": "markdown",
   "id": "a6f27e01",
   "metadata": {},
   "source": [
    "### Fine-tuning lightgbm using GridSearchCV"
   ]
  },
  {
   "cell_type": "code",
   "execution_count": 37,
   "id": "3a6e0873",
   "metadata": {},
   "outputs": [],
   "source": [
    "# parameter grid\n",
    "param_grid = {\n",
    "     \n",
    "    # classifier parameters \n",
    "    \"clf__n_estimators\": [1000],\n",
    "    \"clf__learning_rate\": [0.05,0.1,1],\n",
    "    \"clf__max_depth\":[10,20,30],\n",
    "    \"clf__colsample_bytree\":[0.5],\n",
    "    \"clf__min_child_weight\":[0.5,1,1.5]\n",
    "}"
   ]
  },
  {
   "cell_type": "code",
   "execution_count": 38,
   "id": "4f548bdc",
   "metadata": {},
   "outputs": [],
   "source": [
    "# Instantiate the grid search model\n",
    "grid_search = GridSearchCV(estimator = gbm_pipeline, \n",
    "                           param_grid = param_grid, \n",
    "                           cv = skf, \n",
    "                           scoring=SCORING,\n",
    "                           verbose =1, # show the process\n",
    "                           n_jobs = -1)  # n_jobs = -1 means use all processors"
   ]
  },
  {
   "cell_type": "code",
   "execution_count": 39,
   "id": "4008df7b",
   "metadata": {},
   "outputs": [
    {
     "name": "stdout",
     "output_type": "stream",
     "text": [
      "Fitting 5 folds for each of 27 candidates, totalling 135 fits\n"
     ]
    },
    {
     "data": {
      "text/html": [
       "<style>#sk-container-id-3 {color: black;background-color: white;}#sk-container-id-3 pre{padding: 0;}#sk-container-id-3 div.sk-toggleable {background-color: white;}#sk-container-id-3 label.sk-toggleable__label {cursor: pointer;display: block;width: 100%;margin-bottom: 0;padding: 0.3em;box-sizing: border-box;text-align: center;}#sk-container-id-3 label.sk-toggleable__label-arrow:before {content: \"▸\";float: left;margin-right: 0.25em;color: #696969;}#sk-container-id-3 label.sk-toggleable__label-arrow:hover:before {color: black;}#sk-container-id-3 div.sk-estimator:hover label.sk-toggleable__label-arrow:before {color: black;}#sk-container-id-3 div.sk-toggleable__content {max-height: 0;max-width: 0;overflow: hidden;text-align: left;background-color: #f0f8ff;}#sk-container-id-3 div.sk-toggleable__content pre {margin: 0.2em;color: black;border-radius: 0.25em;background-color: #f0f8ff;}#sk-container-id-3 input.sk-toggleable__control:checked~div.sk-toggleable__content {max-height: 200px;max-width: 100%;overflow: auto;}#sk-container-id-3 input.sk-toggleable__control:checked~label.sk-toggleable__label-arrow:before {content: \"▾\";}#sk-container-id-3 div.sk-estimator input.sk-toggleable__control:checked~label.sk-toggleable__label {background-color: #d4ebff;}#sk-container-id-3 div.sk-label input.sk-toggleable__control:checked~label.sk-toggleable__label {background-color: #d4ebff;}#sk-container-id-3 input.sk-hidden--visually {border: 0;clip: rect(1px 1px 1px 1px);clip: rect(1px, 1px, 1px, 1px);height: 1px;margin: -1px;overflow: hidden;padding: 0;position: absolute;width: 1px;}#sk-container-id-3 div.sk-estimator {font-family: monospace;background-color: #f0f8ff;border: 1px dotted black;border-radius: 0.25em;box-sizing: border-box;margin-bottom: 0.5em;}#sk-container-id-3 div.sk-estimator:hover {background-color: #d4ebff;}#sk-container-id-3 div.sk-parallel-item::after {content: \"\";width: 100%;border-bottom: 1px solid gray;flex-grow: 1;}#sk-container-id-3 div.sk-label:hover label.sk-toggleable__label {background-color: #d4ebff;}#sk-container-id-3 div.sk-serial::before {content: \"\";position: absolute;border-left: 1px solid gray;box-sizing: border-box;top: 0;bottom: 0;left: 50%;z-index: 0;}#sk-container-id-3 div.sk-serial {display: flex;flex-direction: column;align-items: center;background-color: white;padding-right: 0.2em;padding-left: 0.2em;position: relative;}#sk-container-id-3 div.sk-item {position: relative;z-index: 1;}#sk-container-id-3 div.sk-parallel {display: flex;align-items: stretch;justify-content: center;background-color: white;position: relative;}#sk-container-id-3 div.sk-item::before, #sk-container-id-3 div.sk-parallel-item::before {content: \"\";position: absolute;border-left: 1px solid gray;box-sizing: border-box;top: 0;bottom: 0;left: 50%;z-index: -1;}#sk-container-id-3 div.sk-parallel-item {display: flex;flex-direction: column;z-index: 1;position: relative;background-color: white;}#sk-container-id-3 div.sk-parallel-item:first-child::after {align-self: flex-end;width: 50%;}#sk-container-id-3 div.sk-parallel-item:last-child::after {align-self: flex-start;width: 50%;}#sk-container-id-3 div.sk-parallel-item:only-child::after {width: 0;}#sk-container-id-3 div.sk-dashed-wrapped {border: 1px dashed gray;margin: 0 0.4em 0.5em 0.4em;box-sizing: border-box;padding-bottom: 0.4em;background-color: white;}#sk-container-id-3 div.sk-label label {font-family: monospace;font-weight: bold;display: inline-block;line-height: 1.2em;}#sk-container-id-3 div.sk-label-container {text-align: center;}#sk-container-id-3 div.sk-container {/* jupyter's `normalize.less` sets `[hidden] { display: none; }` but bootstrap.min.css set `[hidden] { display: none !important; }` so we also need the `!important` here to be able to override the default hidden behavior on the sphinx rendered scikit-learn.org. See: https://github.com/scikit-learn/scikit-learn/issues/21755 */display: inline-block !important;position: relative;}#sk-container-id-3 div.sk-text-repr-fallback {display: none;}</style><div id=\"sk-container-id-3\" class=\"sk-top-container\"><div class=\"sk-text-repr-fallback\"><pre>GridSearchCV(cv=StratifiedKFold(n_splits=5, random_state=10, shuffle=True),\n",
       "             estimator=Pipeline(steps=[(&#x27;drop_nzv&#x27;,\n",
       "                                        DropConstantFeatures(tol=0.75)),\n",
       "                                       (&#x27;save_feature_names&#x27;,\n",
       "                                        save_col_names(step_name=&#x27;feature_selection&#x27;)),\n",
       "                                       (&#x27;feature_scaling&#x27;,\n",
       "                                        SklearnTransformerWrapper(transformer=StandardScaler(),\n",
       "                                                                  variables=[&#x27;Amount&#x27;])),\n",
       "                                       (&#x27;oversampling&#x27;,\n",
       "                                        SMOTE(random_state=10,\n",
       "                                              sampling_strategy=0.1)),\n",
       "                                       (&#x27;undersampling&#x27;,\n",
       "                                        RandomUnderSampler(random_state=10,\n",
       "                                                           sampling_strategy=0.5)),\n",
       "                                       (&#x27;clf&#x27;,\n",
       "                                        LGBMClassifier(random_state=10))]),\n",
       "             n_jobs=-1,\n",
       "             param_grid={&#x27;clf__colsample_bytree&#x27;: [0.5],\n",
       "                         &#x27;clf__learning_rate&#x27;: [0.05, 0.1, 1],\n",
       "                         &#x27;clf__max_depth&#x27;: [10, 20, 30],\n",
       "                         &#x27;clf__min_child_weight&#x27;: [0.5, 1, 1.5],\n",
       "                         &#x27;clf__n_estimators&#x27;: [1000]},\n",
       "             scoring=&#x27;f1_macro&#x27;, verbose=1)</pre><b>In a Jupyter environment, please rerun this cell to show the HTML representation or trust the notebook. <br />On GitHub, the HTML representation is unable to render, please try loading this page with nbviewer.org.</b></div><div class=\"sk-container\" hidden><div class=\"sk-item sk-dashed-wrapped\"><div class=\"sk-label-container\"><div class=\"sk-label sk-toggleable\"><input class=\"sk-toggleable__control sk-hidden--visually\" id=\"sk-estimator-id-21\" type=\"checkbox\" ><label for=\"sk-estimator-id-21\" class=\"sk-toggleable__label sk-toggleable__label-arrow\">GridSearchCV</label><div class=\"sk-toggleable__content\"><pre>GridSearchCV(cv=StratifiedKFold(n_splits=5, random_state=10, shuffle=True),\n",
       "             estimator=Pipeline(steps=[(&#x27;drop_nzv&#x27;,\n",
       "                                        DropConstantFeatures(tol=0.75)),\n",
       "                                       (&#x27;save_feature_names&#x27;,\n",
       "                                        save_col_names(step_name=&#x27;feature_selection&#x27;)),\n",
       "                                       (&#x27;feature_scaling&#x27;,\n",
       "                                        SklearnTransformerWrapper(transformer=StandardScaler(),\n",
       "                                                                  variables=[&#x27;Amount&#x27;])),\n",
       "                                       (&#x27;oversampling&#x27;,\n",
       "                                        SMOTE(random_state=10,\n",
       "                                              sampling_strategy=0.1)),\n",
       "                                       (&#x27;undersampling&#x27;,\n",
       "                                        RandomUnderSampler(random_state=10,\n",
       "                                                           sampling_strategy=0.5)),\n",
       "                                       (&#x27;clf&#x27;,\n",
       "                                        LGBMClassifier(random_state=10))]),\n",
       "             n_jobs=-1,\n",
       "             param_grid={&#x27;clf__colsample_bytree&#x27;: [0.5],\n",
       "                         &#x27;clf__learning_rate&#x27;: [0.05, 0.1, 1],\n",
       "                         &#x27;clf__max_depth&#x27;: [10, 20, 30],\n",
       "                         &#x27;clf__min_child_weight&#x27;: [0.5, 1, 1.5],\n",
       "                         &#x27;clf__n_estimators&#x27;: [1000]},\n",
       "             scoring=&#x27;f1_macro&#x27;, verbose=1)</pre></div></div></div><div class=\"sk-parallel\"><div class=\"sk-parallel-item\"><div class=\"sk-item\"><div class=\"sk-label-container\"><div class=\"sk-label sk-toggleable\"><input class=\"sk-toggleable__control sk-hidden--visually\" id=\"sk-estimator-id-22\" type=\"checkbox\" ><label for=\"sk-estimator-id-22\" class=\"sk-toggleable__label sk-toggleable__label-arrow\">estimator: Pipeline</label><div class=\"sk-toggleable__content\"><pre>Pipeline(steps=[(&#x27;drop_nzv&#x27;, DropConstantFeatures(tol=0.75)),\n",
       "                (&#x27;save_feature_names&#x27;,\n",
       "                 save_col_names(step_name=&#x27;feature_selection&#x27;)),\n",
       "                (&#x27;feature_scaling&#x27;,\n",
       "                 SklearnTransformerWrapper(transformer=StandardScaler(),\n",
       "                                           variables=[&#x27;Amount&#x27;])),\n",
       "                (&#x27;oversampling&#x27;, SMOTE(random_state=10, sampling_strategy=0.1)),\n",
       "                (&#x27;undersampling&#x27;,\n",
       "                 RandomUnderSampler(random_state=10, sampling_strategy=0.5)),\n",
       "                (&#x27;clf&#x27;, LGBMClassifier(random_state=10))])</pre></div></div></div><div class=\"sk-serial\"><div class=\"sk-item\"><div class=\"sk-serial\"><div class=\"sk-item\"><div class=\"sk-estimator sk-toggleable\"><input class=\"sk-toggleable__control sk-hidden--visually\" id=\"sk-estimator-id-23\" type=\"checkbox\" ><label for=\"sk-estimator-id-23\" class=\"sk-toggleable__label sk-toggleable__label-arrow\">DropConstantFeatures</label><div class=\"sk-toggleable__content\"><pre>DropConstantFeatures(tol=0.75)</pre></div></div></div><div class=\"sk-item\"><div class=\"sk-estimator sk-toggleable\"><input class=\"sk-toggleable__control sk-hidden--visually\" id=\"sk-estimator-id-24\" type=\"checkbox\" ><label for=\"sk-estimator-id-24\" class=\"sk-toggleable__label sk-toggleable__label-arrow\">save_col_names</label><div class=\"sk-toggleable__content\"><pre>save_col_names(step_name=&#x27;feature_selection&#x27;)</pre></div></div></div><div class=\"sk-item sk-dashed-wrapped\"><div class=\"sk-label-container\"><div class=\"sk-label sk-toggleable\"><input class=\"sk-toggleable__control sk-hidden--visually\" id=\"sk-estimator-id-25\" type=\"checkbox\" ><label for=\"sk-estimator-id-25\" class=\"sk-toggleable__label sk-toggleable__label-arrow\">feature_scaling: SklearnTransformerWrapper</label><div class=\"sk-toggleable__content\"><pre>SklearnTransformerWrapper(transformer=StandardScaler(), variables=[&#x27;Amount&#x27;])</pre></div></div></div><div class=\"sk-parallel\"><div class=\"sk-parallel-item\"><div class=\"sk-item\"><div class=\"sk-label-container\"><div class=\"sk-label sk-toggleable\"><input class=\"sk-toggleable__control sk-hidden--visually\" id=\"sk-estimator-id-26\" type=\"checkbox\" ><label for=\"sk-estimator-id-26\" class=\"sk-toggleable__label sk-toggleable__label-arrow\">transformer: StandardScaler</label><div class=\"sk-toggleable__content\"><pre>StandardScaler()</pre></div></div></div><div class=\"sk-serial\"><div class=\"sk-item\"><div class=\"sk-estimator sk-toggleable\"><input class=\"sk-toggleable__control sk-hidden--visually\" id=\"sk-estimator-id-27\" type=\"checkbox\" ><label for=\"sk-estimator-id-27\" class=\"sk-toggleable__label sk-toggleable__label-arrow\">StandardScaler</label><div class=\"sk-toggleable__content\"><pre>StandardScaler()</pre></div></div></div></div></div></div></div></div><div class=\"sk-item\"><div class=\"sk-estimator sk-toggleable\"><input class=\"sk-toggleable__control sk-hidden--visually\" id=\"sk-estimator-id-28\" type=\"checkbox\" ><label for=\"sk-estimator-id-28\" class=\"sk-toggleable__label sk-toggleable__label-arrow\">SMOTE</label><div class=\"sk-toggleable__content\"><pre>SMOTE(random_state=10, sampling_strategy=0.1)</pre></div></div></div><div class=\"sk-item\"><div class=\"sk-estimator sk-toggleable\"><input class=\"sk-toggleable__control sk-hidden--visually\" id=\"sk-estimator-id-29\" type=\"checkbox\" ><label for=\"sk-estimator-id-29\" class=\"sk-toggleable__label sk-toggleable__label-arrow\">RandomUnderSampler</label><div class=\"sk-toggleable__content\"><pre>RandomUnderSampler(random_state=10, sampling_strategy=0.5)</pre></div></div></div><div class=\"sk-item\"><div class=\"sk-estimator sk-toggleable\"><input class=\"sk-toggleable__control sk-hidden--visually\" id=\"sk-estimator-id-30\" type=\"checkbox\" ><label for=\"sk-estimator-id-30\" class=\"sk-toggleable__label sk-toggleable__label-arrow\">LGBMClassifier</label><div class=\"sk-toggleable__content\"><pre>LGBMClassifier(random_state=10)</pre></div></div></div></div></div></div></div></div></div></div></div></div>"
      ],
      "text/plain": [
       "GridSearchCV(cv=StratifiedKFold(n_splits=5, random_state=10, shuffle=True),\n",
       "             estimator=Pipeline(steps=[('drop_nzv',\n",
       "                                        DropConstantFeatures(tol=0.75)),\n",
       "                                       ('save_feature_names',\n",
       "                                        save_col_names(step_name='feature_selection')),\n",
       "                                       ('feature_scaling',\n",
       "                                        SklearnTransformerWrapper(transformer=StandardScaler(),\n",
       "                                                                  variables=['Amount'])),\n",
       "                                       ('oversampling',\n",
       "                                        SMOTE(random_state=10,\n",
       "                                              sampling_strategy=0.1)),\n",
       "                                       ('undersampling',\n",
       "                                        RandomUnderSampler(random_state=10,\n",
       "                                                           sampling_strategy=0.5)),\n",
       "                                       ('clf',\n",
       "                                        LGBMClassifier(random_state=10))]),\n",
       "             n_jobs=-1,\n",
       "             param_grid={'clf__colsample_bytree': [0.5],\n",
       "                         'clf__learning_rate': [0.05, 0.1, 1],\n",
       "                         'clf__max_depth': [10, 20, 30],\n",
       "                         'clf__min_child_weight': [0.5, 1, 1.5],\n",
       "                         'clf__n_estimators': [1000]},\n",
       "             scoring='f1_macro', verbose=1)"
      ]
     },
     "execution_count": 39,
     "metadata": {},
     "output_type": "execute_result"
    }
   ],
   "source": [
    "# fit model\n",
    "grid_search.fit(X_train, y_train)"
   ]
  },
  {
   "cell_type": "code",
   "execution_count": 40,
   "id": "588c68ea",
   "metadata": {},
   "outputs": [
    {
     "data": {
      "text/plain": [
       "{'clf__colsample_bytree': 0.5,\n",
       " 'clf__learning_rate': 0.05,\n",
       " 'clf__max_depth': 20,\n",
       " 'clf__min_child_weight': 0.5,\n",
       " 'clf__n_estimators': 1000}"
      ]
     },
     "execution_count": 40,
     "metadata": {},
     "output_type": "execute_result"
    }
   ],
   "source": [
    "# Let's take a look at the optimal parameters\n",
    "grid_search.best_params_"
   ]
  },
  {
   "cell_type": "code",
   "execution_count": 41,
   "id": "e7820d40",
   "metadata": {},
   "outputs": [
    {
     "name": "stdout",
     "output_type": "stream",
     "text": [
      "The optimal model has f1_macro of 0.7995541700092592\n"
     ]
    }
   ],
   "source": [
    "# What is the score of the model with the optimal parameter\n",
    "print(f\"The optimal model has {SCORING} of {grid_search.best_score_}\")"
   ]
  },
  {
   "cell_type": "code",
   "execution_count": 42,
   "id": "bf6ea69a",
   "metadata": {},
   "outputs": [],
   "source": [
    "# Persist the optimal pipeline (NOTE: the estimator of the grid_search object is a pipeline)\n",
    "gbm_grid_search_best_pipeline= grid_search.best_estimator_\n",
    "\n",
    "# Save as pickle\n",
    "with open(Path('outputs','trained_models','gbm_grid_search_best_pipeline.pkl'), 'wb') as f:\n",
    "    pickle.dump(gbm_grid_search_best_pipeline, f)"
   ]
  },
  {
   "cell_type": "markdown",
   "id": "00a6c8e7",
   "metadata": {},
   "source": [
    "**Since the tuned Random Forest has better performance than the tuned light gbm model, we will focus on the Random Forest model for the rest of this notebook.**"
   ]
  },
  {
   "cell_type": "markdown",
   "id": "6680a78b",
   "metadata": {},
   "source": [
    "### Feature importance from Random Forest"
   ]
  },
  {
   "cell_type": "code",
   "execution_count": 43,
   "id": "c4f5ba83",
   "metadata": {},
   "outputs": [],
   "source": [
    "# Get best random forest model\n",
    "best_rf= rf_grid_search_best_pipeline.named_steps[\"clf\"]"
   ]
  },
  {
   "cell_type": "code",
   "execution_count": 44,
   "id": "f49d903d",
   "metadata": {},
   "outputs": [
    {
     "data": {
      "text/plain": [
       "0"
      ]
     },
     "execution_count": 44,
     "metadata": {},
     "output_type": "execute_result"
    }
   ],
   "source": [
    "# Dropped feature by nzv (none were dropped)\n",
    "dropped_features = rf_grid_search_best_pipeline.named_steps.drop_nzv.features_to_drop_\n",
    "len(dropped_features)"
   ]
  },
  {
   "cell_type": "code",
   "execution_count": 45,
   "id": "9111b2cd",
   "metadata": {},
   "outputs": [],
   "source": [
    "feature_names = list(X_train)"
   ]
  },
  {
   "cell_type": "code",
   "execution_count": 46,
   "id": "c1f642f7",
   "metadata": {},
   "outputs": [
    {
     "data": {
      "text/html": [
       "<div>\n",
       "<style scoped>\n",
       "    .dataframe tbody tr th:only-of-type {\n",
       "        vertical-align: middle;\n",
       "    }\n",
       "\n",
       "    .dataframe tbody tr th {\n",
       "        vertical-align: top;\n",
       "    }\n",
       "\n",
       "    .dataframe thead th {\n",
       "        text-align: right;\n",
       "    }\n",
       "</style>\n",
       "<table border=\"1\" class=\"dataframe\">\n",
       "  <thead>\n",
       "    <tr style=\"text-align: right;\">\n",
       "      <th></th>\n",
       "      <th>feature</th>\n",
       "      <th>importance</th>\n",
       "    </tr>\n",
       "  </thead>\n",
       "  <tbody>\n",
       "    <tr>\n",
       "      <th>0</th>\n",
       "      <td>V14</td>\n",
       "      <td>0.466499</td>\n",
       "    </tr>\n",
       "    <tr>\n",
       "      <th>1</th>\n",
       "      <td>V8</td>\n",
       "      <td>0.043139</td>\n",
       "    </tr>\n",
       "    <tr>\n",
       "      <th>2</th>\n",
       "      <td>V13</td>\n",
       "      <td>0.021263</td>\n",
       "    </tr>\n",
       "    <tr>\n",
       "      <th>3</th>\n",
       "      <td>V7</td>\n",
       "      <td>0.192428</td>\n",
       "    </tr>\n",
       "    <tr>\n",
       "      <th>4</th>\n",
       "      <td>Amount</td>\n",
       "      <td>0.027633</td>\n",
       "    </tr>\n",
       "  </tbody>\n",
       "</table>\n",
       "</div>"
      ],
      "text/plain": [
       "  feature  importance\n",
       "0     V14    0.466499\n",
       "1      V8    0.043139\n",
       "2     V13    0.021263\n",
       "3      V7    0.192428\n",
       "4  Amount    0.027633"
      ]
     },
     "execution_count": 46,
     "metadata": {},
     "output_type": "execute_result"
    }
   ],
   "source": [
    "# Extract the feature importances into a dataframe\n",
    "feature_results = pd.DataFrame({'feature': feature_names, \n",
    "                                'importance': best_rf.feature_importances_})\n",
    "feature_results.head()"
   ]
  },
  {
   "cell_type": "code",
   "execution_count": 47,
   "id": "14c97927",
   "metadata": {},
   "outputs": [
    {
     "data": {
      "text/plain": [
       "<AxesSubplot: title={'center': 'Feature Importance from random forest'}, xlabel='Features', ylabel='Normalized feature importance'>"
      ]
     },
     "execution_count": 47,
     "metadata": {},
     "output_type": "execute_result"
    },
    {
     "data": {
      "image/png": "[encoded data removed]",
      "text/plain": [
       "<Figure size 1000x500 with 1 Axes>"
      ]
     },
     "metadata": {},
     "output_type": "display_data"
    }
   ],
   "source": [
    "# Bar plot\n",
    "\n",
    "# Plot styling\n",
    "plt.style.use(\"fivethirtyeight\")\n",
    "plt.rcParams[\"font.size\"] = 12\n",
    "\n",
    "fig = plt.figure(figsize=(10,5))\n",
    "ax = fig.add_subplot(1,1,1)\n",
    "\n",
    "(feature_results\n",
    "     .sort_values(\"importance\", ascending=False)\n",
    "     .set_index(\"feature\")\n",
    "     .plot.barh(\n",
    "         ax=ax,\n",
    "         color='k',\n",
    "         alpha=0.7,\n",
    "         title=\"Feature Importance from random forest\",\n",
    "         ylabel=\"Normalized feature importance\",\n",
    "         xlabel=\"Features\"         \n",
    "     ))"
   ]
  },
  {
   "cell_type": "markdown",
   "id": "236b8140",
   "metadata": {},
   "source": [
    "**V14 accounts for close to half of the normalized feature importance, just from the top 3 features alone (V14, V7, and V6), we already account for 3/4 of the feature importance. I might get a more parsimonious model just by training with the top 3 features alone.** "
   ]
  },
  {
   "cell_type": "markdown",
   "id": "8ba50c10",
   "metadata": {},
   "source": [
    "### Confusion Matrix\n",
    "- Use the full train set to perform K-fold CV (e.g., split train set into 5 folds). Use 1 fold to test, and the remaining folds to train.\n",
    "- If I use cross_val_predict(), each \"test\" fold is used to generate \"clean predictions\". Meaning that the predictions were generated from a model that never saw the test data during training.\n",
    "- I repeat this for all test folds to get a set clean predictions (has the same sample size as the train set)."
   ]
  },
  {
   "cell_type": "code",
   "execution_count": 48,
   "id": "a31e9a50",
   "metadata": {},
   "outputs": [],
   "source": [
    "y_train_pred = cross_val_predict(\n",
    "    estimator = rf_grid_search_best_pipeline,\n",
    "    X = X_train,\n",
    "    y = y_train,\n",
    "    cv = skf\n",
    ")"
   ]
  },
  {
   "cell_type": "code",
   "execution_count": 49,
   "id": "76387af0",
   "metadata": {},
   "outputs": [
    {
     "data": {
      "text/plain": [
       "((227845,), (227845,))"
      ]
     },
     "execution_count": 49,
     "metadata": {},
     "output_type": "execute_result"
    }
   ],
   "source": [
    "# I have a set of clean predictions in y_train_pred\n",
    "y_train_pred.shape, y_train.shape "
   ]
  },
  {
   "cell_type": "code",
   "execution_count": 50,
   "id": "c88d14e0",
   "metadata": {},
   "outputs": [
    {
     "data": {
      "text/plain": [
       "array([[227202,    249],\n",
       "       [    65,    329]])"
      ]
     },
     "execution_count": 50,
     "metadata": {},
     "output_type": "execute_result"
    }
   ],
   "source": [
    "# Confusion matrix\n",
    "cm = confusion_matrix(y_train, y_train_pred)\n",
    "cm"
   ]
  },
  {
   "cell_type": "markdown",
   "id": "404ac455",
   "metadata": {},
   "source": [
    "**Plot confusion matrix in a heatmap**"
   ]
  },
  {
   "cell_type": "code",
   "execution_count": 51,
   "id": "3645d8a8",
   "metadata": {},
   "outputs": [],
   "source": [
    "def plot_confusion_matrix(cm, \n",
    "                          classes,\n",
    "                          normalize=False,\n",
    "                          title='Confusion matrix',\n",
    "                          cmap=plt.cm.Oranges):\n",
    "    \"\"\"\n",
    "    This function prints and plots the confusion matrix.\n",
    "    Normalization can be applied by setting `normalize=True`.\n",
    "    Source: http://scikit-learn.org/stable/auto_examples/model_selection/plot_confusion_matrix.html\n",
    "    \"\"\"\n",
    "    if normalize:\n",
    "        cm = cm.astype('float') / cm.sum(axis=1)[:, np.newaxis]\n",
    "        print(\"Normalized confusion matrix\")\n",
    "    else:\n",
    "        print('Confusion matrix, without normalization')\n",
    "\n",
    "    print(cm)\n",
    "\n",
    "    plt.figure(figsize = (10, 10))\n",
    "    plt.imshow(cm, interpolation='nearest', cmap=cmap)\n",
    "    plt.title(title, size = 24)\n",
    "    plt.colorbar(aspect=4)\n",
    "    tick_marks = np.arange(len(classes))\n",
    "    plt.xticks(tick_marks, classes, rotation=45, size = 14)\n",
    "    plt.yticks(tick_marks, classes, size = 14)\n",
    "\n",
    "    fmt = '.2f' if normalize else 'd'\n",
    "    thresh = cm.max() / 2.\n",
    "    \n",
    "    # Labeling the plot\n",
    "    for i, j in itertools.product(range(cm.shape[0]), range(cm.shape[1])):\n",
    "        plt.text(j, i, format(cm[i, j], fmt), fontsize = 20,\n",
    "                 horizontalalignment=\"center\",\n",
    "                 color=\"white\" if cm[i, j] > thresh else \"black\")\n",
    "        \n",
    "    plt.grid(None)\n",
    "    plt.tight_layout()\n",
    "    plt.ylabel('True label', size = 18)\n",
    "    plt.xlabel('Predicted label', size = 18)"
   ]
  },
  {
   "cell_type": "code",
   "execution_count": 52,
   "id": "20151263",
   "metadata": {},
   "outputs": [
    {
     "name": "stdout",
     "output_type": "stream",
     "text": [
      "Confusion matrix, without normalization\n",
      "[[227202    249]\n",
      " [    65    329]]\n"
     ]
    },
    {
     "data": {
      "image/png": "[encoded data removed]",
      "text/plain": [
       "<Figure size 1000x1000 with 2 Axes>"
      ]
     },
     "metadata": {},
     "output_type": "display_data"
    }
   ],
   "source": [
    "plot_confusion_matrix(cm = cm, \n",
    "                      classes = ['Not Fraud', 'Fraud'],\n",
    "                      normalize=False,\n",
    "                      title = 'Fraud Transaction Prediction Matrix')"
   ]
  },
  {
   "cell_type": "markdown",
   "id": "6164c118",
   "metadata": {},
   "source": [
    "**The model makes 578 Fraud predictions, of which, 329 (0.57) are actually Fraud transactions. The precision of the model is 0.57. But I am less concern about this since the 249 False positive cases will be investigated by human analysts. Of the 394 actual fraud cases, the model correctly predicts 329 (0.84). Therefore, reacall is 0.84 and I only have 65 False negatives. I am more concerned about the recall score since I want to detect as much fraud transactions as possible. The cost of False Negative is much higher than that of False Positives. Resampling using SMOTE enable us to train a model that performs well in predicting the minority (but the more interesting) Fraud class!**\n"
   ]
  },
  {
   "cell_type": "markdown",
   "id": "fc3fee07",
   "metadata": {},
   "source": [
    "### Precision and Recall curve\n",
    "\n",
    "As a rule of thumb, you should use AUPRC whenever the positive class is rare (as in our case) or when you care more about the false positives than the false negatives. Otherwise, we use AUROC.\n",
    "If I set my threshold to a high value, say 0.8, the classifier will make less positive predictions. In this case, its precision will increase, but its recall will decrease. The inverse is true if the threshold is low (e.g., 0.3)."
   ]
  },
  {
   "cell_type": "markdown",
   "id": "c10fb28d",
   "metadata": {},
   "source": [
    "A NOTE about the average_precision score for multiclass classification\n",
    "\n",
    "https://scikit-learn.org/stable/modules/generated/sklearn.metrics.average_precision_score.html\n",
    "sklearn.metrics.average_precision_score(y_true, y_score, *, average='macro', pos_label=1, sample_weight=None)\n",
    "If average is set to None then the scores for each class are returned. Otherwise, this argument determines the type of averaging performed on the data: \"micro\", \"macro\", \"weighted\", \"sample\"\n",
    "average will be ignored if outcome is binary"
   ]
  },
  {
   "cell_type": "code",
   "execution_count": 53,
   "id": "eb618e2b",
   "metadata": {},
   "outputs": [],
   "source": [
    "\n",
    "def plot_multiclass_prc(\n",
    "    y_val: pd.Series,\n",
    "    y_scores: pd.Series,\n",
    "    mapping: Dict,\n",
    "    out_path: Union[str, Path],\n",
    "    figsize: tuple[int, int] = (15, 8),\n",
    "):\n",
    "    \"\"\"plot_multiclass_prc\n",
    "\n",
    "    Args:\n",
    "        y_val (pd.Series): true values of DV\n",
    "        y_scores (pd.Series): probability\n",
    "        estimation of DV\n",
    "        mapping (Dict): mapping dictionary of\n",
    "        numeric encoding of DV to its string encoding\n",
    "        out_path (Union[str, Path]): output\n",
    "        path of the saved PRC png figure\n",
    "        figsize (tuple[int, int], optional): Size of\n",
    "        PRC figure. Defaults to (15, 8).\n",
    "    \"\"\"\n",
    "\n",
    "    # structures\n",
    "    precisions = dict()\n",
    "    recalls = dict()\n",
    "    auprcs = dict()\n",
    "\n",
    "    # get dummy variables for y_val, one for each level\n",
    "    y_val_dummies = pd.get_dummies(y_val, drop_first=False).values\n",
    "\n",
    "    # Compute precision, recall for each class\n",
    "    # Also compute the AUPRC for each class\n",
    "    for k, v in mapping.items():\n",
    "        precisions[v], recalls[v], _ = precision_recall_curve(\n",
    "            y_val_dummies[:, k - 1], y_scores[:, k - 1]\n",
    "        )\n",
    "        auprcs[v] = average_precision_score(y_val_dummies[:, k - 1], y_scores[:, k - 1])\n",
    "\n",
    "    # plot precision and recall vs threshold for each class\n",
    "    fig, ax = plt.subplots(figsize=figsize)\n",
    "    plt.style.use(\"fivethirtyeight\")\n",
    "    plt.rcParams[\"font.size\"] = 12\n",
    "\n",
    "    for k, v in mapping.items():\n",
    "        ax.plot(\n",
    "            recalls[v],\n",
    "            precisions[v],\n",
    "            label=f\"PRC for class {v} (area = {round(auprcs[v],2)}\"\n",
    "            + f\" vs prop of class: {round(y_val_dummies[:, k - 1].mean(),2)})\",\n",
    "        )\n",
    "    # Plot settings\n",
    "    ax.set_xlim([0.0, 1.0])  # set x and y limits\n",
    "    ax.set_ylim([0.0, 1.05])\n",
    "\n",
    "    ax.set_xlabel(\"Recall\")  # set x and y labels and title\n",
    "    ax.set_ylabel(\"Precision\")\n",
    "    ax.set_title(\"Precision and Recall Curves\")\n",
    "\n",
    "    ax.legend(loc=\"best\")\n",
    "    # plt.show()\n",
    "    plt.savefig(out_path, dpi=300, bbox_inches=\"tight\")\n"
   ]
  },
  {
   "cell_type": "code",
   "execution_count": 54,
   "id": "098f44d1",
   "metadata": {},
   "outputs": [],
   "source": [
    "y_train_pred_scores = cross_val_predict(\n",
    "    estimator = rf_grid_search_best_pipeline,\n",
    "    X = X_train,\n",
    "    y = y_train,\n",
    "    cv = skf,\n",
    "    method = \"predict_proba\"\n",
    ")"
   ]
  },
  {
   "cell_type": "code",
   "execution_count": 55,
   "id": "918035d3",
   "metadata": {},
   "outputs": [
    {
     "data": {
      "image/png": "[encoded data removed]",
      "text/plain": [
       "<Figure size 1500x800 with 1 Axes>"
      ]
     },
     "metadata": {},
     "output_type": "display_data"
    }
   ],
   "source": [
    "plot_multiclass_prc(y_val = y_train, \n",
    "                    y_scores = y_train_pred_scores, \n",
    "                    mapping = {1:\"No Fraud\", 2:\"Fraud\"},\n",
    "                    out_path = Path(\"outputs\"))"
   ]
  },
  {
   "cell_type": "markdown",
   "id": "8be76d04",
   "metadata": {},
   "source": [
    "**The AURPC (average precision) of Fraud Class is 0.78, relative to `random guess` (baseline) of ~0.0.**"
   ]
  },
  {
   "cell_type": "markdown",
   "id": "e678fd74",
   "metadata": {},
   "source": [
    "## Evaluating the optimized Random Forest model using the test (hold-out) set"
   ]
  },
  {
   "cell_type": "code",
   "execution_count": 56,
   "id": "511152d7",
   "metadata": {},
   "outputs": [
    {
     "data": {
      "text/plain": [
       "((56962, 11), (56962,))"
      ]
     },
     "execution_count": 56,
     "metadata": {},
     "output_type": "execute_result"
    }
   ],
   "source": [
    "X_test.shape, y_test.shape"
   ]
  },
  {
   "cell_type": "code",
   "execution_count": 57,
   "id": "edfa8cc7",
   "metadata": {},
   "outputs": [],
   "source": [
    "y_test_pred = rf_grid_search_best_pipeline.predict(X_test)"
   ]
  },
  {
   "cell_type": "code",
   "execution_count": 58,
   "id": "cd6b3fb6",
   "metadata": {},
   "outputs": [
    {
     "data": {
      "text/plain": [
       "((56962,), (56962,))"
      ]
     },
     "execution_count": 58,
     "metadata": {},
     "output_type": "execute_result"
    }
   ],
   "source": [
    "# I have a set of predictions in y_test_pred from the test set (X_test)\n",
    "y_test_pred.shape, y_test.shape "
   ]
  },
  {
   "cell_type": "code",
   "execution_count": 59,
   "id": "ba1809ff",
   "metadata": {},
   "outputs": [
    {
     "data": {
      "text/plain": [
       "array([[56800,    64],\n",
       "       [   18,    80]])"
      ]
     },
     "execution_count": 59,
     "metadata": {},
     "output_type": "execute_result"
    }
   ],
   "source": [
    "# Confusion matrix\n",
    "cm = confusion_matrix(y_test, y_test_pred)\n",
    "cm"
   ]
  },
  {
   "cell_type": "code",
   "execution_count": 60,
   "id": "0260ca8d",
   "metadata": {},
   "outputs": [
    {
     "name": "stdout",
     "output_type": "stream",
     "text": [
      "Confusion matrix, without normalization\n",
      "[[56800    64]\n",
      " [   18    80]]\n"
     ]
    },
    {
     "data": {
      "image/png": "[encoded data removed]",
      "text/plain": [
       "<Figure size 1000x1000 with 2 Axes>"
      ]
     },
     "metadata": {},
     "output_type": "display_data"
    }
   ],
   "source": [
    "plot_confusion_matrix(cm = cm, \n",
    "                      classes = ['Not Fraud', 'Fraud'],\n",
    "                      normalize=False,\n",
    "                      title = 'Fraud Transaction Prediction Matrix (Test Set)')"
   ]
  },
  {
   "cell_type": "markdown",
   "id": "b90eaa14",
   "metadata": {},
   "source": [
    "**Of the 98 Fraud cases in the hold out set, the model correctly predict 80 (0.816) of them. Thus, the recall score is 0.816.**"
   ]
  },
  {
   "cell_type": "code",
   "execution_count": 61,
   "id": "6a7a4c59",
   "metadata": {},
   "outputs": [],
   "source": [
    "y_test_pred_scores = rf_grid_search_best_pipeline.predict_proba(X_test)"
   ]
  },
  {
   "cell_type": "code",
   "execution_count": 62,
   "id": "8eaed335",
   "metadata": {},
   "outputs": [
    {
     "data": {
      "image/png": "[encoded data removed]",
      "text/plain": [
       "<Figure size 1500x800 with 1 Axes>"
      ]
     },
     "metadata": {},
     "output_type": "display_data"
    }
   ],
   "source": [
    "plot_multiclass_prc(y_val = y_test, \n",
    "                    y_scores = y_test_pred_scores, \n",
    "                    mapping = {1:\"No Fraud\", 2:\"Fraud\"},\n",
    "                    out_path = Path(\"outputs\"))"
   ]
  },
  {
   "cell_type": "markdown",
   "id": "ff7d0878",
   "metadata": {},
   "source": [
    "**The average precision score (AUPRC) from test set is 0.77, relative to the baseline of 0.0**"
   ]
  },
  {
   "cell_type": "code",
   "execution_count": 70,
   "id": "163d250c",
   "metadata": {},
   "outputs": [
    {
     "data": {
      "text/plain": [
       "0.6611570247933884"
      ]
     },
     "execution_count": 70,
     "metadata": {},
     "output_type": "execute_result"
    }
   ],
   "source": [
    "f1_score(y_test, y_test_pred)"
   ]
  },
  {
   "cell_type": "code",
   "execution_count": 68,
   "id": "02b4dc32",
   "metadata": {},
   "outputs": [
    {
     "data": {
      "text/plain": [
       "144"
      ]
     },
     "execution_count": 68,
     "metadata": {},
     "output_type": "execute_result"
    }
   ],
   "source": [
    "np.unique(y_test_pred, return_counts=True)[1][1]"
   ]
  },
  {
   "cell_type": "code",
   "execution_count": 69,
   "id": "006d3c92",
   "metadata": {},
   "outputs": [
    {
     "data": {
      "text/plain": [
       "56962"
      ]
     },
     "execution_count": 69,
     "metadata": {},
     "output_type": "execute_result"
    }
   ],
   "source": [
    "len(y_test_pred)"
   ]
  },
  {
   "cell_type": "code",
   "execution_count": null,
   "id": "b18b22d0",
   "metadata": {},
   "outputs": [],
   "source": []
  }
 ],
 "metadata": {
  "kernelspec": {
   "display_name": "Python 3 (ipykernel)",
   "language": "python",
   "name": "python3"
  },
  "language_info": {
   "codemirror_mode": {
    "name": "ipython",
    "version": 3
   },
   "file_extension": ".py",
   "mimetype": "text/x-python",
   "name": "python",
   "nbconvert_exporter": "python",
   "pygments_lexer": "ipython3",
   "version": "3.10.5"
  }
 },
 "nbformat": 4,
 "nbformat_minor": 5
}
